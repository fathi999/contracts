{
  "cells": [
    {
      "cell_type": "code",
      "execution_count": 1,
      "id": "curious-rolling",
      "metadata": {
        "colab": {
          "base_uri": "https://localhost:8080/"
        },
        "id": "curious-rolling",
        "outputId": "658e095c-adb4-40a1-fe52-2200e8b508f4"
      },
      "outputs": [
        {
          "output_type": "stream",
          "name": "stdout",
          "text": [
            "Cloning into 'cuad'...\n",
            "remote: Enumerating objects: 30, done.\u001b[K\n",
            "remote: Total 30 (delta 0), reused 0 (delta 0), pack-reused 30\u001b[K\n",
            "Unpacking objects: 100% (30/30), done.\n"
          ]
        }
      ],
      "source": [
        "!git clone https://github.com/TheAtticusProject/cuad.git"
      ]
    },
    {
      "cell_type": "code",
      "execution_count": 2,
      "id": "governing-wages",
      "metadata": {
        "id": "governing-wages"
      },
      "outputs": [],
      "source": [
        "!mv cuad cuad-training"
      ]
    },
    {
      "cell_type": "code",
      "execution_count": 3,
      "id": "decent-brown",
      "metadata": {
        "colab": {
          "base_uri": "https://localhost:8080/"
        },
        "id": "decent-brown",
        "outputId": "e6740f47-0b83-41d3-acda-a3f7100aba72"
      },
      "outputs": [
        {
          "output_type": "stream",
          "name": "stdout",
          "text": [
            "Archive:  cuad-training/data.zip\n",
            "  inflating: cuad-data/CUADv1.json   \n",
            "  inflating: cuad-data/test.json     \n",
            "  inflating: cuad-data/train_separate_questions.json  \n"
          ]
        }
      ],
      "source": [
        "!unzip cuad-training/data.zip -d cuad-data/"
      ]
    },
    {
      "cell_type": "code",
      "execution_count": 4,
      "id": "packed-perception",
      "metadata": {
        "id": "packed-perception"
      },
      "outputs": [],
      "source": [
        "!mkdir cuad-models"
      ]
    },
    {
      "cell_type": "code",
      "execution_count": 5,
      "id": "clinical-monkey",
      "metadata": {
        "colab": {
          "base_uri": "https://localhost:8080/"
        },
        "id": "clinical-monkey",
        "outputId": "1f0dece5-cec0-40ab-bb7d-6a274262b1b4"
      },
      "outputs": [
        {
          "output_type": "stream",
          "name": "stdout",
          "text": [
            "  % Total    % Received % Xferd  Average Speed   Time    Time     Time  Current\n",
            "                                 Dload  Upload   Total   Spent    Left  Speed\n",
            "100  426M  100  426M    0     0  9723k      0  0:00:44  0:00:44 --:--:-- 14.6M\n"
          ]
        }
      ],
      "source": [
        "!curl https://zenodo.org/record/4599830/files/roberta-base.zip?download=1 --output cuad-models/roberta-base.zip"
      ]
    },
    {
      "cell_type": "code",
      "execution_count": 6,
      "id": "charming-advocacy",
      "metadata": {
        "id": "charming-advocacy",
        "colab": {
          "base_uri": "https://localhost:8080/"
        },
        "outputId": "ba40a732-be5b-4c06-a84e-4da8d25a2d3f"
      },
      "outputs": [
        {
          "output_type": "stream",
          "name": "stdout",
          "text": [
            "Archive:  cuad-models/roberta-base.zip\n",
            "   creating: cuad-models/roberta-base/\n",
            "  inflating: cuad-models/roberta-base/special_tokens_map.json  \n",
            "  inflating: cuad-models/roberta-base/tokenizer_config.json  \n",
            "  inflating: cuad-models/roberta-base/pytorch_model.bin  \n",
            "  inflating: cuad-models/roberta-base/training_args.bin  \n",
            "  inflating: cuad-models/roberta-base/vocab.json  \n",
            "  inflating: cuad-models/roberta-base/predictions_.json  \n",
            "  inflating: cuad-models/roberta-base/merges.txt  \n",
            "  inflating: cuad-models/roberta-base/nbest_predictions_.json  \n",
            "  inflating: cuad-models/roberta-base/null_odds_.json  \n",
            "  inflating: cuad-models/roberta-base/config.json  \n"
          ]
        }
      ],
      "source": [
        "!unzip cuad-models/roberta-base.zip -d cuad-models/"
      ]
    },
    {
      "cell_type": "code",
      "execution_count": 7,
      "id": "lesser-reflection",
      "metadata": {
        "id": "lesser-reflection",
        "colab": {
          "base_uri": "https://localhost:8080/"
        },
        "outputId": "1b1d572c-862b-4c67-b018-21d178d0e660"
      },
      "outputs": [
        {
          "output_type": "stream",
          "name": "stdout",
          "text": [
            "Looking in indexes: https://pypi.org/simple, https://us-python.pkg.dev/colab-wheels/public/simple/\n",
            "Requirement already satisfied: torch in /usr/local/lib/python3.7/dist-packages (1.11.0+cu113)\n",
            "Requirement already satisfied: typing-extensions in /usr/local/lib/python3.7/dist-packages (from torch) (4.1.1)\n"
          ]
        }
      ],
      "source": [
        "!pip install torch"
      ]
    },
    {
      "cell_type": "code",
      "execution_count": 8,
      "id": "seventh-portuguese",
      "metadata": {
        "colab": {
          "base_uri": "https://localhost:8080/"
        },
        "id": "seventh-portuguese",
        "outputId": "9e3c916b-c798-47e5-c6fb-3be4c4c0f259"
      },
      "outputs": [
        {
          "output_type": "stream",
          "name": "stdout",
          "text": [
            "Looking in indexes: https://pypi.org/simple, https://us-python.pkg.dev/colab-wheels/public/simple/\n",
            "Collecting transformers\n",
            "  Downloading transformers-4.20.1-py3-none-any.whl (4.4 MB)\n",
            "\u001b[K     |████████████████████████████████| 4.4 MB 32.6 MB/s \n",
            "\u001b[?25hRequirement already satisfied: importlib-metadata in /usr/local/lib/python3.7/dist-packages (from transformers) (4.11.4)\n",
            "Collecting tokenizers!=0.11.3,<0.13,>=0.11.1\n",
            "  Downloading tokenizers-0.12.1-cp37-cp37m-manylinux_2_12_x86_64.manylinux2010_x86_64.whl (6.6 MB)\n",
            "\u001b[K     |████████████████████████████████| 6.6 MB 58.9 MB/s \n",
            "\u001b[?25hRequirement already satisfied: tqdm>=4.27 in /usr/local/lib/python3.7/dist-packages (from transformers) (4.64.0)\n",
            "Requirement already satisfied: packaging>=20.0 in /usr/local/lib/python3.7/dist-packages (from transformers) (21.3)\n",
            "Requirement already satisfied: filelock in /usr/local/lib/python3.7/dist-packages (from transformers) (3.7.1)\n",
            "Requirement already satisfied: requests in /usr/local/lib/python3.7/dist-packages (from transformers) (2.23.0)\n",
            "Requirement already satisfied: numpy>=1.17 in /usr/local/lib/python3.7/dist-packages (from transformers) (1.21.6)\n",
            "Collecting pyyaml>=5.1\n",
            "  Downloading PyYAML-6.0-cp37-cp37m-manylinux_2_5_x86_64.manylinux1_x86_64.manylinux_2_12_x86_64.manylinux2010_x86_64.whl (596 kB)\n",
            "\u001b[K     |████████████████████████████████| 596 kB 64.2 MB/s \n",
            "\u001b[?25hRequirement already satisfied: regex!=2019.12.17 in /usr/local/lib/python3.7/dist-packages (from transformers) (2022.6.2)\n",
            "Collecting huggingface-hub<1.0,>=0.1.0\n",
            "  Downloading huggingface_hub-0.8.1-py3-none-any.whl (101 kB)\n",
            "\u001b[K     |████████████████████████████████| 101 kB 14.7 MB/s \n",
            "\u001b[?25hRequirement already satisfied: typing-extensions>=3.7.4.3 in /usr/local/lib/python3.7/dist-packages (from huggingface-hub<1.0,>=0.1.0->transformers) (4.1.1)\n",
            "Requirement already satisfied: pyparsing!=3.0.5,>=2.0.2 in /usr/local/lib/python3.7/dist-packages (from packaging>=20.0->transformers) (3.0.9)\n",
            "Requirement already satisfied: zipp>=0.5 in /usr/local/lib/python3.7/dist-packages (from importlib-metadata->transformers) (3.8.0)\n",
            "Requirement already satisfied: idna<3,>=2.5 in /usr/local/lib/python3.7/dist-packages (from requests->transformers) (2.10)\n",
            "Requirement already satisfied: certifi>=2017.4.17 in /usr/local/lib/python3.7/dist-packages (from requests->transformers) (2022.6.15)\n",
            "Requirement already satisfied: chardet<4,>=3.0.2 in /usr/local/lib/python3.7/dist-packages (from requests->transformers) (3.0.4)\n",
            "Requirement already satisfied: urllib3!=1.25.0,!=1.25.1,<1.26,>=1.21.1 in /usr/local/lib/python3.7/dist-packages (from requests->transformers) (1.24.3)\n",
            "Installing collected packages: pyyaml, tokenizers, huggingface-hub, transformers\n",
            "  Attempting uninstall: pyyaml\n",
            "    Found existing installation: PyYAML 3.13\n",
            "    Uninstalling PyYAML-3.13:\n",
            "      Successfully uninstalled PyYAML-3.13\n",
            "Successfully installed huggingface-hub-0.8.1 pyyaml-6.0 tokenizers-0.12.1 transformers-4.20.1\n"
          ]
        }
      ],
      "source": [
        "!pip install transformers"
      ]
    },
    {
      "cell_type": "code",
      "source": [
        "from transformers import AutoModelForQuestionAnswering, AutoTokenizer\n",
        "import torch"
      ],
      "metadata": {
        "id": "bvhDjB4P19Ro"
      },
      "id": "bvhDjB4P19Ro",
      "execution_count": 9,
      "outputs": []
    },
    {
      "cell_type": "code",
      "source": [
        "model = AutoModelForQuestionAnswering.from_pretrained('./cuad-models/roberta-base/')\n",
        "tokenizer = AutoTokenizer.from_pretrained('./cuad-models/roberta-base/', use_fast=False)"
      ],
      "metadata": {
        "id": "cylmJXjq2I0F"
      },
      "id": "cylmJXjq2I0F",
      "execution_count": 10,
      "outputs": []
    },
    {
      "cell_type": "code",
      "source": [
        "import json\n",
        "\n",
        "with open('./cuad-data/CUADv1.json') as json_file:\n",
        "    data = json.load(json_file)"
      ],
      "metadata": {
        "id": "5Wca_tG92KwM"
      },
      "id": "5Wca_tG92KwM",
      "execution_count": 11,
      "outputs": []
    },
    {
      "cell_type": "code",
      "source": [
        "question = data['data'][0]['paragraphs'][0]['qas'][2]['question']\n",
        "paragraph = ' '.join(data['data'][4]['paragraphs'][0]['context'].split()[:2000])\n",
        "paragraph"
      ],
      "metadata": {
        "colab": {
          "base_uri": "https://localhost:8080/",
          "height": 105
        },
        "id": "DAj_V1fV2NvX",
        "outputId": "5528f7f3-3a4e-4a8e-a5c1-b5486bbfe316"
      },
      "id": "DAj_V1fV2NvX",
      "execution_count": 30,
      "outputs": [
        {
          "output_type": "execute_result",
          "data": {
            "text/plain": [
              "\"Exhibit 1 JOINT FILING AGREEMENT The undersigned hereby agree to jointly prepare and file with the applicable regulatory authorities this Schedule 13G or Schedule 13D and any future amendments thereto reporting each of the undersigned's ownership of securities of the issuer named herein, and hereby affirm that such Schedule 13G or Schedule 13D is being filed on behalf of each of the undersigned pursuant to and in accordance with the provisions of Rule 13d-1(k) under the Securities Exchange Act of 1934. The undersigned acknowledge that each shall be responsible for the timely filing of such amendments, and for the completeness and accuracy of the information concerning her or it contained therein, but shall not be responsible for the completeness and accuracy of the information concerning the other, except to the extent that she or it knows or has reason to believe that such information is inaccurate. Dated: March 27, 2020. /s/ Shelby J. Butterfield Shelby J. Butterfield BUTTERFIELD FAMILY TRUST By: /s/ Shelby J. Butterfield Shelby J. Butterfield Co-Trustee 1\""
            ],
            "application/vnd.google.colaboratory.intrinsic+json": {
              "type": "string"
            }
          },
          "metadata": {},
          "execution_count": 30
        }
      ]
    },
    {
      "cell_type": "code",
      "source": [
        "question = data['data'][0]['paragraphs'][0]['qas'][2]['question']\n",
        "question"
      ],
      "metadata": {
        "colab": {
          "base_uri": "https://localhost:8080/",
          "height": 35
        },
        "id": "u_TNal3R_niS",
        "outputId": "93e82181-1d1f-4502-c160-3386a1cad3d4"
      },
      "id": "u_TNal3R_niS",
      "execution_count": 31,
      "outputs": [
        {
          "output_type": "execute_result",
          "data": {
            "text/plain": [
              "'Highlight the parts (if any) of this contract related to \"Agreement Date\" that should be reviewed by a lawyer. Details: The date of the contract'"
            ],
            "application/vnd.google.colaboratory.intrinsic+json": {
              "type": "string"
            }
          },
          "metadata": {},
          "execution_count": 31
        }
      ]
    },
    {
      "cell_type": "code",
      "source": [
        "from google.colab import files \n",
        "uploaded = files.upload()"
      ],
      "metadata": {
        "colab": {
          "resources": {
            "http://localhost:8080/nbextensions/google.colab/files.js": {
              "data": "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",
              "ok": true,
              "headers": [
                [
                  "content-type",
                  "application/javascript"
                ]
              ],
              "status": 200,
              "status_text": ""
            }
          },
          "base_uri": "https://localhost:8080/",
          "height": 73
        },
        "id": "BW0OT1mC_1v8",
        "outputId": "f87ff2bc-8a2f-4637-d92f-78bce54af694"
      },
      "id": "BW0OT1mC_1v8",
      "execution_count": 42,
      "outputs": [
        {
          "output_type": "display_data",
          "data": {
            "text/plain": [
              "<IPython.core.display.HTML object>"
            ],
            "text/html": [
              "\n",
              "     <input type=\"file\" id=\"files-126b16bc-aa19-4e13-915b-410b72c3376b\" name=\"files[]\" multiple disabled\n",
              "        style=\"border:none\" />\n",
              "     <output id=\"result-126b16bc-aa19-4e13-915b-410b72c3376b\">\n",
              "      Upload widget is only available when the cell has been executed in the\n",
              "      current browser session. Please rerun this cell to enable.\n",
              "      </output>\n",
              "      <script src=\"/nbextensions/google.colab/files.js\"></script> "
            ]
          },
          "metadata": {}
        },
        {
          "output_type": "stream",
          "name": "stdout",
          "text": [
            "Saving TMP_GR-GROUP-SC-PRO_MOD-510-E.txt to TMP_GR-GROUP-SC-PRO_MOD-510-E.txt\n"
          ]
        }
      ]
    },
    {
      "cell_type": "code",
      "source": [
        "with open('TMP_GR-GROUP-SC-PRO_MOD-510-E.txt') as paragraph:\n",
        "    paragraph = paragraph.read()\n",
        "\n",
        "\n",
        "paragraph"
      ],
      "metadata": {
        "colab": {
          "base_uri": "https://localhost:8080/",
          "height": 1000
        },
        "id": "92um1B86ADxr",
        "outputId": "b408cb03-cd47-416d-ffe1-041e6ce66338"
      },
      "id": "92um1B86ADxr",
      "execution_count": 43,
      "outputs": [
        {
          "output_type": "execute_result",
          "data": {
            "text/plain": [
              "'\\ufeffTEMPLATE FOR\\n\\n\\t\\n\\n\\n\\n\\n TRANSPORT SERVICE CONTRACT \\n\\n\\n\\n\\nTemplate Code TMP_GR-GROUP-SC-PRO_MOD-510-E\\nRev. 01\\nDate 03/08/2021\\nThis cover will be removed in the final document.\\nHighlighted text in yellow describes the parts to be defined and the possible solutions to choose. \\n\\n\\n\\n\\n\\n\\t\\n       \\n\\n\\nSede legale di San Donato Milanese \\nVia Martiri di Cefalonia, 67\\nCapitale Sociale Euro 2.191.384.693 i.v.\\nRegistro Imprese di Milano, Codice Fiscale 00825790157 \\nPartita IVA 00825790157, R.E.A. Milano n. 788744\\n\\nsaipem.com\\n\\n\\n\\n\\nUffici:\\nVia Martiri di Cefalonia, 67\\n20097 San Donato Milanese \\nMilano - Italia\\n\\n\\nS. Donato Milanese\\ndate                                                                                              \\n\\nTransport Service Contract №\\n\\n\\n\\n\\n\\n\\n\\n\\n\\n\\n\\nVAT registr. № \\nVendor Code  \\ntel   \\ntelefax \\ne-mail \\n\\n\\nOur reference:  Transport Service Contract №    (to be quoted in any correspondence)\\n\\nSubject: Transport Service Contract\\n\\n\\n\\n\\nJob:\\n\\n\\nRequesting Center:\\n\\n\\n \\n\\nProc. Dept.\\xa0:\\nProc. Office\\xa0:\\nBuyer\\xa0:\\ntel.:\\ntelefax:\\ne-mail address:\\n \\n\\n\\nFor internal use\\nRef.PR:\\t\\n\\n\\n  Commencement Date:\\n  Completion date:\\n\\n\\n\\n\\n\\n\\n\\n\\nTotal Transport Service Contract Amount\\n\\n\\n\\n\\n\\n\\nThis TRANSPORT SERVICE CONTRACT is made by and between the following PARTIES, under the terms and conditions set forth in the TRANSPORT SERVICE CONTRACT DOCUMENTS.\\n\\n\\n\\nCONTRACTOR: [Saipem Company Name], a company established and existing under the laws of [State], with registered offices in [Address].\\n\\nSUB-CONTRACTOR: [Company Name], a company established and existing under the laws of [State], with registered offices in [Address].\\n\\n1. TRANSPORT SERVICE CONTRACT DOCUMENTS AND PRIORITY\\n1.1 The TRANSPORT SERVICE CONTRACT DOCUMENTS constitute the entire agreement between the PARTIES with respect to the TRANSPORT SERVICE and supersede all prior negotiations, representations and/or agreements, either written or oral, between or amongst the PARTIES with respect thereto.\\n1.2 No amendments to or modifications of any terms or conditions of the TRANSPORT SERVICE CONTRACT DOCUMENTS shall be valid unless made in writing and signed by both PARTIES.\\n1.3 The TRANSPORT SERVICE CONTRACT DOCUMENTS are complementary to each other and consist of the following documents, binding on both PARTIES. In case of inconsistency or conflicts, each document shall prevail over the others in the order set forth here below:\\na. the present TRANSPORT SERVICE CONTRACT, together with any REVISION thereto and the Attachments listed hereunder;\\nb. [If defined for specific project] Special Conditions related to the Project [insert the name of the relevant Project] (hereinafter referred to as the “Special Terms and Conditions” or “STC”);\\nc. General Terms and Conditions for TRANSPORT SERVICE CONTRACT DOCUMENTS Doc. SPC_GR-GROUP-SC-PRO_GTC-510-E-R01 (hereinafter referred to as the “General Terms and Conditions” or “GTCs”);\\nd. Scope of the TRANSPORT SERVICE [if applicable];\\ne. TRANSPORT SERVICE CONTRACT Prices [if applicable];\\nf. Health, Safety and Environment (HSE) Requirements;\\ng. Quality Requirements for Suppliers/Sub-contractors [if applicable];\\nh. CONTRACTOR TECHNICAL DOCUMENTS [specifications, drawings, planning and others if applicable];\\ni. SUB-CONTRACTOR DOCUMENTS and Certifications approved by CONTRACTOR [if applicable];\\nj. Model 231, including the Code of Ethics;\\n[or]\\nOrganization, Management and Control Model including the Code of Ethics;\\nk. Policy Sustainable Saipem, available at the following website: www.saipem.com\\nl. …………………………\\n[possible documents not listed above, and indication of possible priorities of the client]\\n1.4 The Attachments to the present TRANSPORT SERVICE CONTRACT are the following:\\na. Attachment 1 – Letter of Acceptance; \\nb. Attachment 2 – Scope of the TRANSPORT SERVICE [if applicable]; \\nc. Attachment 3 – Parent Company Guarantee Form - FORM_GR-GROUP-SC-PRO_MOD-104-E-R01 [if applicable];\\nd. Attachment 4 – Performance Bond Form - FORM_GR-GROUP-SC-PRO_MOD-101-E-R01 or FORM_GR-GROUP-SC-PRO_MOD-105-E-R01 [if applicable]; \\ne. Attachment 5 – Advance Payment Bond Form - FORM_GR-GROUP-SC-PRO_MOD-102-E-R01 or FORM_GR-GROUP-SC-PRO_MOD-106-E-R01 [if applicable];\\nf. Attachment 6 – Financial Flow Traceability - FORM-COR-PROC-040-E and FORM-COR-PROC-041-E [if applicable];\\ng. Attachment\\xa07\\xa0-\\xa0Volume Rebate Monitoring Form\\xa0[if applicable];\\xa0\\nh. Attachment 8\\xa0-\\xa0Transport Service\\xa0Planning and\\xa0Transport Service\\xa0Progress Monitoring\\xa0[if applicable];\\xa0\\ni. Attachment 11 – List of Annexes [if applicable].\\n2. ACCEPTANCE\\nWithin 5 (five) days of receipt of the TRANSPORT SERVICE CONTRACT issued by CONTRACTOR, SUB-CONTRACTOR shall complete, sign and return to CONTRACTOR the Letter of Acceptance, attached to the TRANSPORT SERVICE CONTRACT, together with other documents therein specified.\\n3. SCOPE OF THE TRANSPORT SERVICE CONTRACT DOCUMENTS\\nSUB-CONTRACTOR shall perform, carry out and provide to CONTRACTOR the TRANSPORT SERVICE as described in the Scope of TRANSPORT SERVICE, in accordance with the TRANSPORT SERVICE CONTRACT DOCUMENTS.\\n4. EFFECTIVE DATE AND DURATION OF THE TRANSPORT SERVICE CONTRACT\\nThe EFFECTIVE DATE of the TRANSPORT SERVICE CONTRACT is DD/MM/YYYY or the earliest to occur amongst: i) five (5) days after the date indicated on TRANSPORT SERVICE CONTRACT first page; ii) the date of signature of the Letter of Acceptance by SUB-CONTRACTOR.[A1]\\n5. TRANSPORT SERVICE TIME SCHEDULE\\nThe TRANSPORT SERVICE under this TRANSPORT SERVICE CONTRACT shall be performed and carried out in accordance with a detailed TRANSPORT SERVICE TIME SCHEDULE which shall be prepared by SUB-CONTRACTOR and submitted to CONTRACTOR, for CONTRACTOR’s review and approval, within 15 (fifteen) days from the EFFECTIVE DATE. \\nSuch detailed TRANSPORT SERVICE TIME SCHEDULE shall be based on the following Key Date(s) and TRANSPORT SERVICE TIME SCHEDULE shall be periodically reviewed to meet CONTRACTOR’s requirements:\\nThe COMMENCEMENT DATE on which SUB-CONTRACTOR shall commence to perform the TRANSPORT SERVICE is DD/MM/YYYY. \\nThe COMPLETION DATE on within which SUB-CONTRACTOR shall complete the performance of the TRANSPORT SERVICE is DD/MM/YYYY.[A2]\\n\\n6. LOADING POINT AND SITE OF DELIVERY\\nThe LOADING POINT of the TRANSPORT SERVICE CONTRACT is: \\n.................................\\nThe SITE OF DELIVERY of the TRANSPORT SERVICE CONTRACT is:\\n……………………………………………\\n[to be indicated also the delivery terms - i.e Free on truck, Free In ] [A3]\\n\\n7. APPROVAL OF SUB-CONTRACTOR DOCUMENTS \\n7.1 With reference to Clauses 4 “APPROVAL OF SUB-CONTRACTOR DOCUMENTS” and 5 “PROGRESS OF THE TRANSPORT SERVICE” of the General Terms and Conditions, SUB-CONTRACTOR shall submit to CONTRACTOR all SUB-CONTRACTOR DOCUMENTS for approval, as specified in the Transport Service Planning and Work Progress Monitoring.\\n7.2 With reference to Clause 4 “APPROVAL OF SUB-CONTRACTOR DOCUMENTS” of the General Terms and Conditions, SUB-CONTRACTOR shall return the SUB-CONTRACTOR DOCUMENTS duly revised to CONTRACTOR within … (…) days from the day they were sent to SUB-CONTRACTOR for such revision.[A4]\\n[terms to be provided by the Project Team / Technical Department - OR - in accordance with the TRANSPORT SERVICE CONTRACT DOCUMENTS]\\n\\n8. TRANSIT TIME[A5]\\nThe SUB-CONTRACTOR shall deliver the GOODS to the SITE OF DELIVERY within the following TRANSIT TIME:\\nTransport to …\\na)\\tConventional service (OS-OW included)\\n-\\t…days from …\\n-\\t……………………………………………\\nb)\\tContainer Service\\n-\\t…days from …\\n-\\t……………………………………………\\nc)\\tAirfreight Service\\n-\\t…days from …\\n-\\t……………………………………………\\nThe TRANSIT TIME shall be calculated from the COMMENCEMENT DATE of transport to the date of arrival at the SITE OF DELIVERY.\\n\\n9. COMPLETION OF THE TRANSPORT SERVICE\\n \\tWith reference to Clause 2 “COMPLETION OF THE TRANSPORT SERVICE” of the General Terms and Conditions, CONTRACTOR shall notify SUB-CONTRACTOR that the TRANSPORT SERVICE is completed through proper progress report or the reasons for not considering the TRANSPORT SERVICE completed by... [mail, signing of documents, ...]. \\n\\n10. LIQUIDATED DAMAGES [A6]\\n10.1. With reference to Clause 10 “LIQUIDATED DAMAGES” of the General Terms and Conditions, SUB-CONTRACTOR shall be liable of the following:  Liquidated damages payable to CONTRACTOR in case of........................... [COMMENCEMENT DATE/TRANSIT TIME / COMPLETION DATE] of the TRANSPORT SERVICE is delayed beyond the........................ [The COMMENCEMENT DATE/TRANSIT TIME/COMPLETION DATE] are equal to X% (… percent) of the TOTAL TRANSPORT SERVICE CONTRACT AMOUNT for each … [day or full week] by which The .............[COMMENCEMENT DATE/TRANSIT TIME / COMPLETION DATE] of the TRANSPORT SERVICE is delayed.\\n10.2. The LIQUIDATED DAMAGES shall in case exceed ......% (....... percent) of the TOTAL TRANSPORT SERVICE CONTRCAT AMOUNT.\\n[suggested not less of 10%]\\n[a grace period is considered only in case of Project Team / Technical Department authorization]\\n\\n11. TAXES\\nThe TOTAL TRANSPORT SERVICE CONTRACT AMOUNT shall be inclusive of all taxes, except for the Value Added Tax, or the sales tax, or any similar indirect tax that, where applicable, shall be indicated separately. \\n12. PRICING \\nPrice(s) shall be as set out in the Price list.\\nThis TRANSPORT SERVICE CONTRACT allows for a TOTAL SERVICE CONTRACT AMOUNT [MAXIMUM AMOUNT] of .................... .\\n\\n13. INVOICING \\n2 \\n13.1 With reference to Clause 16 “INVOICING AND PAYMENT” of the General Terms and Conditions, the TRANSPORT SERVICE shall be invoiced as follows: \\na. Upon the fulfillment of relevant contractual obligations by SUB-CONTRACTOR, SUB-CONTRACTOR shall issue for verification and acceptance to CONTRACTOR’s Representative (copy to be transmitted via e-mail in .pdf format) pro-forma invoice(s) for each of the invoice(s) relevant to TRANSPORT SERVICE, along with the back-up documentation agreed by the PARTIES, such as TRANSPORT SERVICE progress status, certificates and approved site timesheets. [documentation list to be adjusted/completed where necessary on a case by case basis]. \\nb. Upon verification and acceptance by CONTRACTOR’s Representative of the pro-forma invoice(s[A7]) and relevant back-up documentation, the pro-forma invoice shall be approved and a Progress Report shall be issued by CONTRACTOR confirming the relevant value is released for payment and entitling SUB-CONTRACTOR to invoice accordingly. The Progress Report is the official document issued by CONTRACTOR, which certifies the progress of the TRANSPORT SERVICE rendered by SUB-CONTRACTOR.\\nc. The invoice(s) shall be issued after completion of the TRANSPORT SERVICE and fulfilment of any and all the above steps shall constitute a condition precedent to SUB-CONTRACTOR issuing invoices for the TRANSPORT SERVICE and CONTRACTOR paying in accordance with the payment terms.\\nd. As minimum, any and all SUB-CONTRACTOR’s invoice(s) shall make reference to this TRANSPORT SERVICE CONTRACT No. and to the relevant Progress Report(s) No.\\ne. The invoice(s) shall be accompanied with copy of relevant Progress Report(s) issued by CONTRACTOR and shall be addressed as follows:\\n…………………… [Saipem Company Name]\\n…………………… [Address]\\n13.2  Advanced Payment [If applicable]\\n13.2.1 \\tBy entering in this TRANSPORT SERVICE CONTRACT pursuant to the Clause 2 “ACCEPTANCE” here above, SUB-CONTRACTOR shall invoice for an amount equal to ……% (… per cent) of the TOTAL TRANSPORT SERVICE CONTRACT AMOUNT.\\n[not more than 10%]\\n14. PAYMENT \\n14.1 All payments to SUB-CONTRACTOR for the TRANSPORT SERVICE shall be made within … (….) days from receipt of correctly prepared and adequately supported invoice(s).[A8]\\n14.2 Fulfilment of any and all the steps described in Clause 16 “INVOICING AND PAYMENT” of the General Terms and Conditions, shall constitute a condition precedent to SUB-CONTRACTOR’s entitlement to issue invoices for the TRANSPORT SERVICE and CONTRACTOR’s obligation to pay in accordance with payment terms.\\n14.3 With reference to Sub-Clause 16.2 “INVOICING AND PAYMENT” of the General Terms and Conditions, SUB-CONTRACTOR shall provide adequate documentation on bank headed paper (e.g. bank certification, bank statement) certifying that the provided SUB-CONTRACTOR bank account effectively belongs to SUB-CONTRACTOR. The same documentation shall be provided by SUB-CONTRACTOR also in case of any change of the bank account details previously communicated. The provision of such documentation is a necessary condition for CONTRACTOR to proceed with the payments.\\n14.4 Currency: SUB-CONTRACTOR\\'s invoices shall be issued and paid in … currency.\\n14.5 Retention Money [If applicable][A9]\\n14.5.1 All payments, except the advance payment, made to SUB-CONTRACTOR in accordance with the TRANSPORT SERVICE CONTRACT DOCUMENTS shall be subject to retention of an amount equal to …. % (…. percent) of each invoice. \\n[not less than 5%]\\n14.6 Flow Traceability [in case the project is subject to the Italian law n. 136 of 2010 referred to the financial flow traceability]\\n14.6.1 Both PARTIES shall comply the financial flow traceability obligations required by art. 3 of Italian Law n. 136 of 2010.\\n14.6.2 In case of non-compliance with the above, the TRANSPORT SERVICE CONTRACT shall be terminated as per the Clause 21 “TERMINATION” of the General Terms and Conditions. In relation to any financial transaction, each bank transfer shall be made into a dedicated bank account and shall refer to the Tender Identification Code (Codice Identificativo Gara-CIG) and to Project Identification Code (Codice Unico di Progetto – CUP), if applicable.\\n14.6.3 In addition to the above, SUB-CONTRACTOR shall send to CONTRACTOR, by means of an appropriate written declaration, such identification details of the dedicated bank account, personal details and fiscal codes, if applicable, of the persons empowered to operate on it. The declaration shall be drawn up as per “FORM-COR-PROC-040-E”. Any change to any details of the previously communicated dedicated bank account shall be immediately notified in writing by SUB-CONTRACTOR to CONTRACTOR.\\n15. PARENT COMPANY GUARANTEE AND BANK GUARANTEES[A10]\\n3 \\nWith reference to the Clause 17 “PARENT COMPANY GUARANTEE AND BANK GUARANTEES” of the General Terms and Conditions, SUB-CONTRACTOR shall provide the following guarantees:\\nPARENT COMPANY GUARANTEE\\nSUB-CONTRACTOR shall provide a Parent Company Guarantee within …. (….) days from the EFFECTIVE DATE.    [15 days]\\n\\t                 PERFORMANCE BOND\\nSUB-CONTRACTOR shall provide a Performance Bond of an amount equal to …% (… percent) of the TOTAL TRANSPORT SERVICE CONTRACT AMOUNT. Such Performance Bond shall be issued as per the Performance Bond Form hereto attached.\\n[not less than 10%]\\nSUB-CONTRACTOR shall provide CONTRACTOR with the Performance Bond within …. (….) days from the EFFECTIVE DATE.\\n[15 days]\\nADVANCE PAYMENT BOND\\n….% (…. percent) of the TOTAL TRANSPORT SERVICE CONTRACT AMOUNT. Such Advance Payment Bond shall be issued as per the Advance Payment Bond Form hereto attached. \\n[the same value of Advanced Payment]\\nSUB-CONTRACTOR shall provide CONTRACTOR with the Advance Payment Bond within …… (….) days from the EFFECTIVE DATE.\\n[15 days]\\nThe Advance Payment Bond shall be released upon complete recovery of the Advance Payment. \\n16. LIMITATION OF LIABILITY \\nWith reference to the Clause 25 “LIMITATION OF LIABILITY” of the General Terms and Conditions, SUB-CONTRACTOR\\'s liability towards CONTRACTOR under or in connection with the TRANSPORT SERVICE CONTRACT DOCUMENTS shall be limited to …. 5% (FIVE percent) [A11]of the TOTAL TRANSPORT SERVICE CONTRACT AMOUNT.\\n[not less than the TOTAL TRANSPORT SERVICE CONTRACT AMOUNT]\\n17. INSURANCE REQUIREMENTS\\n17.1 SUB-CONTRACTOR shall obtain and maintain throughout the duration of the TRANSPORT SERVICE CONTRACT DOCUMENTS the insurance coverage as provided in the Clause 26 “INSURANCE REQUIREMENTS” of the General Terms and Conditions, with the following limit(s):\\n17.1.1 \\tComprehensive General Third Party Liability Insurance with a limit per occurrence of not less than ……………………………….[A12]\\n17.1.2 \\tWorkmen\\'s Compensation Insurance with a limit per occurrence of not less than ………………………………\\n17.1.3  Employer\\'s Liability Insurance with a limit per occurrence of not less than ………………………………[A13]\\n 17.1.4     [IF APPLICABLE] Protection and Indemnity Insurance, including oil pollution liability in respect of each vessel or watercraft owned and/or employed in operations by SUB-CONTRACTOR with a limit per occurrence of not less than ………………………………\\n17.1.5      [IF NOT COVERED BY GENERAL LIABILITY INSURANCE] and if applicable for vessels chartered by SUB-CONTRACTOR] Charterer\\'s Liability Insurance with a limit per occurrence of not less than ……………………………… \\n[mandatory Insurance: to be defined according the main contract/site situation of the Project]\\n18. REPRESENTATIVES\\n18.1 \\n18.1 Prior to the commencement of the TRANSPORT SERVICE, CONTRACTOR shall designate in writing its Representative in all matters related to the TRANSPORT SERVICE CONTRACT DOCUMENTS, to supervise the management of the TRANSPORT SERVICE CONTRACT DOCUMENTS including the issuance and receipt of communications from SUB-CONTRACTOR.\\n18.2 All communications given by CONTRACTOR\\'s Representative to SUB-CONTRACTOR in accordance with the TRANSPORT SERVICE CONTRACT DOCUMENTS shall be binding upon CONTRACTOR.\\n18.3 Prior to the commencement of the TRANSPORT SERVICE and in no case later than 5 (five) days form the EFFECTIVE DATE, SUB-CONTRACTOR shall designate in writing an experienced SUB-CONTRACTOR\\'s Representative who shall be fully knowledgeable in all aspects of the TRANSPORT SERVICE CONTRACT DOCUMENTS and the TRANSPORT SERVICE, and shall have full charge of all operations of SUB-CONTRACTOR in respect of the TRANSPORT SERVICE, and full authority to represent SUB-CONTRACTOR in all matters related to the performance of the TRANSPORT SERVICE CONTRACT DOCUMENTS.\\n18.4 All communications given to SUB-CONTRACTOR\\'s Representative by CONTRACTOR in accordance with the TRANSPORT SERVICE CONTRACT DOCUMENTS shall be binding upon SUB-CONTRACTOR.\\n18.5 SUB-CONTRACTOR Representative must be fully aware of all aspects relating to the management of the CONTRACT and the TRANSPORT SERVICE and shall have the full and exclusive coordination of its personnel and/or self-employed and/or seconded workers, used by the SUB-CONTRACTOR in the TRANSPORT SERVICE. Such SUB-CONTRACTOR Representative shall be present at the CONTRACTOR’s SITE whenever the TRANSPORT SERVICE is provided in its side/premises.\\n19. CORRISPONDENCE-NOTICES-LANGUAGE\\n\\n19.1 \\tAll written correspondence or documents generated under and/or in connection with the TRANSPORT SERVICE CONTRACT DOCUMENTS shall quote the following:\\na. TRANSPORT SERVICE CONTRACT number and initials;\\nb. SITE OF DELIVERY; and\\nc. name of the PROJECT, where applicable.\\n19.2 \\tCorrespondence and notices shall be delivered to the following addresses:\\nCONTRACTOR:\\nSUB-CONTRACTOR:\\n19.3 \\tAll notices to be given with respect to the TRANSPORT SERVICE CONTRACT DOCUMENTS shall be considered valid only if sent from CONTRACTOR’s Representative to SUB-CONTRACTOR’s Representative, and vice versa. Such notices shall be delivered personally or sent by registered or certified mail, return receipt requested, or by facsimile, or other form of telecommunication. The addresses of notice, and the references of the relevant Representative for CONTRACTOR and SUB-CONTRACTOR shall be specified in the TRANSPORT SERVICE CONTRACT. Such notices shall be effective as from the date of receipt thereof.\\n19.4 \\tEither PARTY may change the address, and the references of its Representative by giving at least 15 (fifteen) days prior notice to the other PARTY.\\n19.5\\tThe English language shall be used by the PARTIES in all correspondence and documents (including without limitation all SUB-CONTRACTOR DOCUMENTS) prepared or exchanged hereunder or related hereto.\\n20. PERSONAL DATA PROTECTION ACTIVITIES\\n[THIS CLAUSE SHALL APPLY IN CASE THE OTHER PARTY OF THE CONTRACT IS NOT APPOINTED AS EXTERNAL DATA PROCESSOR the specifications highlighted in green are applicable only in case of at least one of the PARTY is an Italian legal entity.]\\xa0\\n20.1\\tThe PARTIES undertake to comply with the requirements of [D. Lgs.196/2003 (hereinafter: “Privacy Code”), as amended by D. Lgs. 101/2018] and EU Regulation 2016/679 issued by the European Parliament and Council on 27 April 2016 regarding “the protection of natural persons with regard to the processing of personal data and the free movement of such data\" (hereinafter GDPR) commencing on the applicable date, in addition to relevant national standards and regulations set out by the Italian Data Protection Authority.\\n20.2\\tBy signing this TRANSPORT SERVICE CONTRACT, each PARTY hereby acknowledges that personal data relating to its employees/collaborators involved in the TRANSPORT SERVICE, will be processed by the other PARTY as Autonomous Data Controller, for the purposes of executing the TRANSPORT SERVICE CONTRACT only. The personal data will be processed, in accordance to the principles of lawfulness and fairness, in order to protect the rights and freedoms of data subjects, in compliance with technical and organizational measures to ensure a level of security appropriate to the risk, in manual and/or automatic mode, taking exclusively any responsibilities that may arise from the TRANSPORT SERVICE CONTRACT.\\n20.3\\tIn the event that, for the execution of the TRANSPORT SERVICE, THIRD PARTIES personal data need to be processed, each PARTY shall act as Autonomous Data Controller, fulfilling the obligation to inform the data subjects and, where required by law, collecting their consent.\\n\\n21. SPECIAL CONDITIONS \\n21.1 SUB-CONTRACTOR acknowledges that coronavirus COVID-19 pandemic is a known and/or foreseeable event, as well as the respective current and future measures attempting to limit/control the spread resulting thereof and the related direct and indirect effects. Therefore, SUB-CONTRACTOR agrees that such events shall not be considered as Force Majeure pursuant to and for the purposes of Clause 19 “FORCE MAJEURE” of the GENERAL TERMS AND CONDITIONS for TRANSPORT SERVICE CONTRACT DOCUMENTS and/or in any case as events which can legitimate SUB-CONTRACTOR’s delay or non-performance or SUB-CONTRACTOR’s request for additional costs. \\nSUB-CONTRACTOR declares that it has taken into account coronavirus COVID-19 pandemic and the risk of the adoption of new measures attempting to limit/control the spread resulting thereof, before entering into the TRANSPORT SERVICE CONTRACT DOCUMENTS and represents that it can manage any further implications of coronavirus COVID-19 pandemic, without seeking any modification to the TRANSPORT SERVICE CONTRACT DOCUMENTS.  The PARTIES acknowledge that the TRANSPORT SERVICE CONTRACT DOCUMENTS have been mutually agreed in all their aspects also in order to consider and regulate any constraints that may directly or indirectly arise due to the events described hereabove.\\n21.2 [in case rental is part of the transport service]\\nIn accordance with IFRS 16 principles, the SUB-CONTRACTOR declares that the SCOPE OF TRANSPORT SERVICE of the present TRANSPORT SERVICE CONTRACT is split as follows:\\n - Rental part equal to [XXXXXX]\\n-  Service part equal to [XXXXXXX]\\n\\n21.3 [TO BE INSERTED, IF ANY, ON A CASE BY CASE BASIS]\\n\\n22. LAW N. 136 OF 2010 – FINANCIAL FLOW TRACEABILITY \\n [in case the project is subject to the Italian law n. 136 of 2010 referred to the financial flow traceability]\\n22.1 \\tAny and all agreements made between SUB-CONTRACTOR and any of its Sub-Contractors or Sub-Suppliers of any tier shall include a mutual specific clause whereby both relevant parties commit to comply with the financial flow traceability obligations required by the Italian Law n. 136 of 13 August 2010 (“Law n. 136 of 2010”). In case of non-compliance with the above, that contract is deemed to be null and void. If, either SUB-CONTRACTOR or any of its Sub-Contractors or Sub-Suppliers has knowledge of any non-compliance by its counterparty with the aforesaid obligations, it shall immediately inform both CONTRACTOR and the relevant Italian authority (i.e. the competent Prefecture - Territorial Office of the Government of the Province).\\nIn addition to the above, SUB-CONTRACTOR shall send to CONTRACTOR a written declaration, signed by its legal representative, whereby SUPPLIER confirms that appropriate clauses according to Law n. 136 of 2010 are included in each contract signed between SUB-CONTRACTOR and any of its Sub-Contractors or Sub-Suppliers. The declaration shall be drawn up as per “FORM-COR-PROC-041-E”.\\n23.2\\tWhere CONTRACTOR  expressly authorizes the assignment of any and all credits due to SUB-CONTRACTOR  under this TRANSPORT SERVICE CONTRACT to any third party (hereinafter referred to as the “ASSIGNEE”), SUB-CONTRACTOR  shall send to the ASSIGNEE a written declaration which includes the identification details of the “dedicated” bank account according to Law n. 136 of 2010, personal details and fiscal codes of the persons empowered to operate on the dedicated bank account (or the indication of an equivalent document in the case of foreign persons), the Tender Identification Code (“Codice Identificativo Gara”-CIG), the Project Identification Code (“Codice Unico di Progetto” – CUP), and the relevant number of the assigned contract.  \\n\\n[signature]\\n\\n\\n\\n[Note: each page of the TRANSPORT SERVICE CONTRACT and of the General Terms and Conditions shall be initialled by both PARTIES]\\n\\n\\n\\n\\n\\n\\n\\n\\n\\n\\n\\n\\n\\n\\n\\n\\n\\nComments on General Terms and Conditions:\\n• Article 8. SUB-CONTRACTOR’S RESPONSIBILITIES IN RELATION TO THE GOODS The Whole Article shall be reviewed by operations\\n• Article 9. Obligations\\no 9.2.c provide all management, supervision, personnel, materials, equipment, means of transport and all other things whether of a temporary or permanent nature required for the TRANSPORT SERVICE;\\no 9.2.e provide all necessary permits, licenses, and any other authorizations for the performance of the TRANSPORT SERVICE, except for those which must be obtained by CONTRACTOR, as specified in the TRANSPORT SERVICE CONTRACT;\\no 9.2.g prepare and submit SUB-CONTRACTOR DOCUMENTS, including Quality Control Plan and a detailed TRANSPORT SERVICE TIME SCHEDULE showing chronological order of major activities, key dates, for CONTRACTOR\\'s review and approval as specified in the TRANSPORT SERVICE CONTRACT DOCUMENTS;\\no 9.4 All costs and charges that may be incurred by SUB-CONTRACTOR under this Clause shall be borne by SUB-CONTRACTOR and be deemed to be included in and covered by the TOTALTRANSPORT SERVICE CONTRACT AMOUNT.\\n• Article 11. TITLE AND RISK\\no SUB-CONTRACTOR shall be responsible for the care and custody of the GOODS from the COMMENCEMENT DATE, at the condition stated in Clause 8 “SUB-CONTRACTOR’S RESPONSIBILITIES IN RELATION TO THE GOODS”, until the date of the COMPLETION OF THE TRANSPORT SERVICE in accordance with Clause 2 “COMPLETION OF THE TRANSPORT SERVICE”.\\no Title to the GOODS shall remain with CONTRACTOR for the whole duration of the TRANSPORT SERVICE.\\nArticle 14. PRICING• \\n\\n14.2 All prices and rates set forth in the TRANSPORT SERVICE CONTRACT shall be firm and fixed and shall not be subject to escalation or exchange rate variation of any kind for the entire duration of the TRANSPORT SERVICE CONTRACT DOCUMENTS. Article \\n\\n• Article 18. SUSPENSION FOR CONVENIENCE\\no CONTRACTOR in its absolute and sole discretion shall be entitled to instruct SUBCONTRACTOR to suspend the TRANSPORT SERVICE for any reason, by giving notice (“Notice of Suspension”) thereof to SUB-CONTRACTOR. The Notice of Suspension shall specify the date of suspension and the estimated duration of the suspension.\\n\\n21. Terminations:\\no TERMINATION FOR CONVENIENCE\\no 21.7 CONTRACTOR in its absolute and sole discretion may terminate the TRANSPORT SERVICE CONTRACT or any part thereof for any reason and at any time by giving 10 (ten) days’ notice thereof to SUB-CONTRACTOR.\\n• Article 23 DAMAGE OR LOSS OF THE GOODS, \\no What is the maximum value of the goods per full truck load/trip by land\\no Are we dealing with sea or air freight under this agreement?\\no SUB-CONTRACTOR shall be liable for damage to or loss of the GOODS arising out of or in connection with SUB-CONTRACTOR GROUP\\'s performance or non-performance of the TRANSPORT SERVICE CONTRACT DOCUMENTS in accordance with the following provisions: SEA TRANSPORT, ROAD TRANSPORT, AIR TRANSPORT\\n• 26. INSURANCE REQUIREMENTS\\no h. SUB-CONTRACTOR’s All Risks Insurance covering property and or equipment owned, leased or used by SUB-CONTRACTOR in the performance of the TRANSPORT SERVICE, up to the full replacement value of such property and or equipment;\\no The deductibles of the Insurances specified in this Clause shall be borne by SUB-CONTRACTOR.\\no The policies described under this Clause, other than Workman’s Compensation and Employers Liability, shall provide (i) that CONTRACTOR GROUP is named additional assured to the extent of the liabilities assumed by SUB‐CONTRACTOR under the TRANSPORT SERVICE CONTRACT and (ii) that the insurers waive all rights of subrogation against CONTRACTOR GROUP and its sub-supplier and/or sub-contractor of any tier.\\n[A1]Duration it\\'s not mentioned\\n[A2]Please fill-in\\n[A3]Please add in case of any delay in offloading at site, detention charges shall apply\\n[A4]Shall be considered by operations and filled-in\\n[A5]All transit time shall be filled-in as per our operations confirmation \\n[A6]Filled-in , and I recommend , 0.5% PER LINE ITEM FOR EVERY WEEK DELAY, UP TO AND MAXIMUM 5% OF CONTRQCT VALUE FOR ALL DELAYS AGGREGATED DURING THE COURSE OF THE CONTRACT\\n[A7]NO PRO-FORMA INVOICE UNDER THIS CONTRACT\\n[A8]30 DAYS\\n[A9]RETENSION, MAXIMUM 5%\\n[A10]MAXIMUM 10% \\n[A11]I\\'VE PUT 5%, WHAT IS THE TOTAL CONTRACT VALUE?\\n[A12]OUR MAXIMUM INSURANCE IS 5,000,000 SAR FOR BODILY INJURY AND /OR 3RD PARTY PROPERTY DAMAGE ANY ONCE OCCURANCE AND 18,750,000 SA AGGREGATED\\n[A13]!\\n\\n\\n \\nTEMPLATE\\nGroup\\n\\nTRANSPORT SERVICE CONTRACT \\nDoc. no. TMP_GR-GROUP-SC-PRO_MOD-510-E\\n\\n\\nRev. 01\\nDate 03/08/2021\\n\\n\\nPage 1 of 3\\n\\n\\n\\n\\n\\n\\n\\n\\n\\n\\n\\n\\n\\n\\n\\n \\nTEMPLATE\\nGroup\\n\\nTRANSPORT SERVICE CONTRACT \\n\\nDoc. no. TMP_GR-GROUP-SC-PRO_MOD-510-E\\n\\n\\nRev. 01\\nDate 03/08/2021\\n\\n\\nPage 1 of 3\\n\\n\\n'"
            ],
            "application/vnd.google.colaboratory.intrinsic+json": {
              "type": "string"
            }
          },
          "metadata": {},
          "execution_count": 43
        }
      ]
    },
    {
      "cell_type": "code",
      "source": [
        "#encoding = tokenizer.encode_plus(text=question, text_pair=paragraph)\n",
        "#inputs = encoding['input_ids']\n",
        "#tokens = tokenizer.convert_ids_to_tokens(inputs)\n",
        "#outputs = model(input_ids=torch.tensor([inputs]))\n",
        "\n",
        "#start_scores = outputs.start_logits\n",
        "#end_scores = outputs.end_logits"
      ],
      "metadata": {
        "id": "s60_Rfyt2PGn"
      },
      "id": "s60_Rfyt2PGn",
      "execution_count": null,
      "outputs": []
    },
    {
      "cell_type": "code",
      "source": [
        "import matplotlib.pyplot as plt\n",
        "import seaborn as sns\n",
        "\n",
        "# Use plot styling from seaborn.\n",
        "sns.set(style='darkgrid')\n",
        "\n",
        "# Increase the plot size and font size.\n",
        "#sns.set(font_scale=1.5)\n",
        "plt.rcParams[\"figure.figsize\"] = (16,8)\n",
        "\n",
        "# Pull the scores out of PyTorch Tensors and convert them to 1D numpy arrays.\n",
        "s_scores = start_scores.detach().numpy().flatten()\n",
        "e_scores = end_scores.detach().numpy().flatten()\n",
        "\n",
        "# We'll use the tokens as the x-axis labels. In order to do that, they all need\n",
        "# to be unique, so we'll add the token index to the end of each one.\n",
        "token_labels = []\n",
        "for (i, token) in enumerate(tokens):\n",
        "    token_labels.append('{:} - {:>2}'.format(tokenizer.convert_tokens_to_string(token), i))\n",
        "\n",
        "# Create a barplot showing the start word score for all of the tokens.\n",
        "ax = sns.barplot(x=token_labels[80:120], y=s_scores[80:120], ci=None)\n",
        "\n",
        "# Turn the xlabels vertical.\n",
        "ax.set_xticklabels(ax.get_xticklabels(), rotation=90, ha=\"center\")\n",
        "\n",
        "# Turn on the vertical grid to help align words to scores.\n",
        "ax.grid(True)\n",
        "\n",
        "plt.title('Start Word Scores')\n",
        "\n",
        "plt.show()\n"
      ],
      "metadata": {
        "colab": {
          "base_uri": "https://localhost:8080/",
          "height": 558
        },
        "id": "Hlxhodd82Rzr",
        "outputId": "0c4481d7-66c8-44d7-ad91-4b89a29d05eb"
      },
      "id": "Hlxhodd82Rzr",
      "execution_count": 44,
      "outputs": [
        {
          "output_type": "display_data",
          "data": {
            "text/plain": [
              "<Figure size 1152x576 with 1 Axes>"
            ],
            "image/png": "[encoded data removed]"
          },
          "metadata": {}
        }
      ]
    },
    {
      "cell_type": "code",
      "source": [
        "import torch\n",
        "import time\n",
        "from torch.utils.data import DataLoader, RandomSampler, SequentialSampler\n",
        "\n",
        "from transformers import (\n",
        "    AutoConfig,\n",
        "    AutoModelForQuestionAnswering,\n",
        "    AutoTokenizer,\n",
        "    squad_convert_examples_to_features\n",
        ")\n",
        "\n",
        "from transformers.data.processors.squad import SquadResult, SquadV2Processor, SquadExample\n",
        "from transformers.data.metrics.squad_metrics import compute_predictions_logits\n",
        "\n",
        "def run_prediction(question_texts, context_text, model_path):\n",
        "    ### Setting hyperparameters\n",
        "    max_seq_length = 512\n",
        "    doc_stride = 256\n",
        "    n_best_size = 1\n",
        "    max_query_length = 64\n",
        "    max_answer_length = 512\n",
        "    do_lower_case = False\n",
        "    null_score_diff_threshold = 0.0\n",
        "\n",
        "    # model_name_or_path = \"../cuad-models/roberta-base/\"\n",
        "\n",
        "    def to_list(tensor):\n",
        "        return tensor.detach().cpu().tolist()\n",
        "\n",
        "    config_class, model_class, tokenizer_class = (\n",
        "        AutoConfig, AutoModelForQuestionAnswering, AutoTokenizer)\n",
        "    config = config_class.from_pretrained(model_path)\n",
        "    tokenizer = tokenizer_class.from_pretrained(\n",
        "        model_path, do_lower_case=True, use_fast=False)\n",
        "    model = model_class.from_pretrained(model_path, config=config)\n",
        "\n",
        "    device = torch.device(\"cuda\" if torch.cuda.is_available() else \"cpu\")\n",
        "    model.to(device)\n",
        "\n",
        "    processor = SquadV2Processor()\n",
        "    examples = []\n",
        "\n",
        "    for i, question_text in enumerate(question_texts):\n",
        "        example = SquadExample(\n",
        "            qas_id=str(i),\n",
        "            question_text=question_text,\n",
        "            context_text=context_text,\n",
        "            answer_text=None,\n",
        "            start_position_character=None,\n",
        "            title=\"Predict\",\n",
        "            answers=None,\n",
        "        )\n",
        "\n",
        "        examples.append(example)\n",
        "\n",
        "    features, dataset = squad_convert_examples_to_features(\n",
        "        examples=examples,\n",
        "        tokenizer=tokenizer,\n",
        "        max_seq_length=max_seq_length,\n",
        "        doc_stride=doc_stride,\n",
        "        max_query_length=max_query_length,\n",
        "        is_training=False,\n",
        "        return_dataset=\"pt\",\n",
        "        threads=1,\n",
        "    )\n",
        "\n",
        "    eval_sampler = SequentialSampler(dataset)\n",
        "    eval_dataloader = DataLoader(dataset, sampler=eval_sampler, batch_size=10)\n",
        "\n",
        "    all_results = []\n",
        "\n",
        "    for batch in eval_dataloader:\n",
        "        model.eval()\n",
        "        batch = tuple(t.to(device) for t in batch)\n",
        "\n",
        "        with torch.no_grad():\n",
        "            inputs = {\n",
        "                \"input_ids\": batch[0],\n",
        "                \"attention_mask\": batch[1],\n",
        "                \"token_type_ids\": batch[2],\n",
        "            }\n",
        "\n",
        "            example_indices = batch[3]\n",
        "\n",
        "            outputs = model(**inputs)\n",
        "\n",
        "            for i, example_index in enumerate(example_indices):\n",
        "                eval_feature = features[example_index.item()]\n",
        "                unique_id = int(eval_feature.unique_id)\n",
        "\n",
        "                output = [to_list(output[i]) for output in outputs.to_tuple()]\n",
        "\n",
        "                start_logits, end_logits = output\n",
        "                result = SquadResult(unique_id, start_logits, end_logits)\n",
        "                all_results.append(result)\n",
        "\n",
        "    final_predictions = compute_predictions_logits(\n",
        "        all_examples=examples,\n",
        "        all_features=features,\n",
        "        all_results=all_results,\n",
        "        n_best_size=n_best_size,\n",
        "        max_answer_length=max_answer_length,\n",
        "        do_lower_case=do_lower_case,\n",
        "        output_prediction_file=None,\n",
        "        output_nbest_file=None,\n",
        "        output_null_log_odds_file=None,\n",
        "        verbose_logging=False,\n",
        "        version_2_with_negative=True,\n",
        "        null_score_diff_threshold=null_score_diff_threshold,\n",
        "        tokenizer=tokenizer\n",
        "    )\n",
        "\n",
        "    return final_predictions"
      ],
      "metadata": {
        "id": "vDRkCEmc3EAx"
      },
      "id": "vDRkCEmc3EAx",
      "execution_count": 45,
      "outputs": []
    },
    {
      "cell_type": "code",
      "source": [
        "\n",
        "import json"
      ],
      "metadata": {
        "id": "A6Ss-wEN23VP"
      },
      "id": "A6Ss-wEN23VP",
      "execution_count": 46,
      "outputs": []
    },
    {
      "cell_type": "code",
      "source": [
        "with open('./cuad-data/CUADv1.json') as json_file:\n",
        "    data = json.load(json_file)"
      ],
      "metadata": {
        "id": "E-Rk9w6Y9i9D"
      },
      "id": "E-Rk9w6Y9i9D",
      "execution_count": 47,
      "outputs": []
    },
    {
      "cell_type": "code",
      "source": [
        "#questions = []\n",
        "#for i, q in enumerate(data['data'][0]['paragraphs'][0]['qas']):\n",
        "#    question = data['data'][0]['paragraphs'][0]['qas'][i]['question']\n",
        "#    questions.append(question)\n",
        "#contract = data['data'][0]['paragraphs'][0]['context']"
      ],
      "metadata": {
        "id": "KjXTwYHS9tgJ"
      },
      "id": "KjXTwYHS9tgJ",
      "execution_count": null,
      "outputs": []
    },
    {
      "cell_type": "code",
      "source": [
        "questions = []\n",
        "for i, q in enumerate(data['data'][0]['paragraphs'][0]['qas']):\n",
        "    question = data['data'][0]['paragraphs'][0]['qas'][i]['question']\n",
        "    questions.append(question)\n",
        "\n",
        "contract = paragraph\n",
        "\n",
        "contract\n",
        "\n"
      ],
      "metadata": {
        "colab": {
          "base_uri": "https://localhost:8080/",
          "height": 105
        },
        "id": "P5cp3K-4eyQc",
        "outputId": "655524d7-22f6-4b67-98d1-1d0f53cff162"
      },
      "id": "P5cp3K-4eyQc",
      "execution_count": 48,
      "outputs": [
        {
          "output_type": "execute_result",
          "data": {
            "text/plain": [
              "'\\ufeffTEMPLATE FOR\\n\\n\\t\\n\\n\\n\\n\\n TRANSPORT SERVICE CONTRACT \\n\\n\\n\\n\\nTemplate Code TMP_GR-GROUP-SC-PRO_MOD-510-E\\nRev. 01\\nDate 03/08/2021\\nThis cover will be removed in the final document.\\nHighlighted text in yellow describes the parts to be defined and the possible solutions to choose. \\n\\n\\n\\n\\n\\n\\t\\n       \\n\\n\\nSede legale di San Donato Milanese \\nVia Martiri di Cefalonia, 67\\nCapitale Sociale Euro 2.191.384.693 i.v.\\nRegistro Imprese di Milano, Codice Fiscale 00825790157 \\nPartita IVA 00825790157, R.E.A. Milano n. 788744\\n\\nsaipem.com\\n\\n\\n\\n\\nUffici:\\nVia Martiri di Cefalonia, 67\\n20097 San Donato Milanese \\nMilano - Italia\\n\\n\\nS. Donato Milanese\\ndate                                                                                              \\n\\nTransport Service Contract №\\n\\n\\n\\n\\n\\n\\n\\n\\n\\n\\n\\nVAT registr. № \\nVendor Code  \\ntel   \\ntelefax \\ne-mail \\n\\n\\nOur reference:  Transport Service Contract №    (to be quoted in any correspondence)\\n\\nSubject: Transport Service Contract\\n\\n\\n\\n\\nJob:\\n\\n\\nRequesting Center:\\n\\n\\n \\n\\nProc. Dept.\\xa0:\\nProc. Office\\xa0:\\nBuyer\\xa0:\\ntel.:\\ntelefax:\\ne-mail address:\\n \\n\\n\\nFor internal use\\nRef.PR:\\t\\n\\n\\n  Commencement Date:\\n  Completion date:\\n\\n\\n\\n\\n\\n\\n\\n\\nTotal Transport Service Contract Amount\\n\\n\\n\\n\\n\\n\\nThis TRANSPORT SERVICE CONTRACT is made by and between the following PARTIES, under the terms and conditions set forth in the TRANSPORT SERVICE CONTRACT DOCUMENTS.\\n\\n\\n\\nCONTRACTOR: [Saipem Company Name], a company established and existing under the laws of [State], with registered offices in [Address].\\n\\nSUB-CONTRACTOR: [Company Name], a company established and existing under the laws of [State], with registered offices in [Address].\\n\\n1. TRANSPORT SERVICE CONTRACT DOCUMENTS AND PRIORITY\\n1.1 The TRANSPORT SERVICE CONTRACT DOCUMENTS constitute the entire agreement between the PARTIES with respect to the TRANSPORT SERVICE and supersede all prior negotiations, representations and/or agreements, either written or oral, between or amongst the PARTIES with respect thereto.\\n1.2 No amendments to or modifications of any terms or conditions of the TRANSPORT SERVICE CONTRACT DOCUMENTS shall be valid unless made in writing and signed by both PARTIES.\\n1.3 The TRANSPORT SERVICE CONTRACT DOCUMENTS are complementary to each other and consist of the following documents, binding on both PARTIES. In case of inconsistency or conflicts, each document shall prevail over the others in the order set forth here below:\\na. the present TRANSPORT SERVICE CONTRACT, together with any REVISION thereto and the Attachments listed hereunder;\\nb. [If defined for specific project] Special Conditions related to the Project [insert the name of the relevant Project] (hereinafter referred to as the “Special Terms and Conditions” or “STC”);\\nc. General Terms and Conditions for TRANSPORT SERVICE CONTRACT DOCUMENTS Doc. SPC_GR-GROUP-SC-PRO_GTC-510-E-R01 (hereinafter referred to as the “General Terms and Conditions” or “GTCs”);\\nd. Scope of the TRANSPORT SERVICE [if applicable];\\ne. TRANSPORT SERVICE CONTRACT Prices [if applicable];\\nf. Health, Safety and Environment (HSE) Requirements;\\ng. Quality Requirements for Suppliers/Sub-contractors [if applicable];\\nh. CONTRACTOR TECHNICAL DOCUMENTS [specifications, drawings, planning and others if applicable];\\ni. SUB-CONTRACTOR DOCUMENTS and Certifications approved by CONTRACTOR [if applicable];\\nj. Model 231, including the Code of Ethics;\\n[or]\\nOrganization, Management and Control Model including the Code of Ethics;\\nk. Policy Sustainable Saipem, available at the following website: www.saipem.com\\nl. …………………………\\n[possible documents not listed above, and indication of possible priorities of the client]\\n1.4 The Attachments to the present TRANSPORT SERVICE CONTRACT are the following:\\na. Attachment 1 – Letter of Acceptance; \\nb. Attachment 2 – Scope of the TRANSPORT SERVICE [if applicable]; \\nc. Attachment 3 – Parent Company Guarantee Form - FORM_GR-GROUP-SC-PRO_MOD-104-E-R01 [if applicable];\\nd. Attachment 4 – Performance Bond Form - FORM_GR-GROUP-SC-PRO_MOD-101-E-R01 or FORM_GR-GROUP-SC-PRO_MOD-105-E-R01 [if applicable]; \\ne. Attachment 5 – Advance Payment Bond Form - FORM_GR-GROUP-SC-PRO_MOD-102-E-R01 or FORM_GR-GROUP-SC-PRO_MOD-106-E-R01 [if applicable];\\nf. Attachment 6 – Financial Flow Traceability - FORM-COR-PROC-040-E and FORM-COR-PROC-041-E [if applicable];\\ng. Attachment\\xa07\\xa0-\\xa0Volume Rebate Monitoring Form\\xa0[if applicable];\\xa0\\nh. Attachment 8\\xa0-\\xa0Transport Service\\xa0Planning and\\xa0Transport Service\\xa0Progress Monitoring\\xa0[if applicable];\\xa0\\ni. Attachment 11 – List of Annexes [if applicable].\\n2. ACCEPTANCE\\nWithin 5 (five) days of receipt of the TRANSPORT SERVICE CONTRACT issued by CONTRACTOR, SUB-CONTRACTOR shall complete, sign and return to CONTRACTOR the Letter of Acceptance, attached to the TRANSPORT SERVICE CONTRACT, together with other documents therein specified.\\n3. SCOPE OF THE TRANSPORT SERVICE CONTRACT DOCUMENTS\\nSUB-CONTRACTOR shall perform, carry out and provide to CONTRACTOR the TRANSPORT SERVICE as described in the Scope of TRANSPORT SERVICE, in accordance with the TRANSPORT SERVICE CONTRACT DOCUMENTS.\\n4. EFFECTIVE DATE AND DURATION OF THE TRANSPORT SERVICE CONTRACT\\nThe EFFECTIVE DATE of the TRANSPORT SERVICE CONTRACT is DD/MM/YYYY or the earliest to occur amongst: i) five (5) days after the date indicated on TRANSPORT SERVICE CONTRACT first page; ii) the date of signature of the Letter of Acceptance by SUB-CONTRACTOR.[A1]\\n5. TRANSPORT SERVICE TIME SCHEDULE\\nThe TRANSPORT SERVICE under this TRANSPORT SERVICE CONTRACT shall be performed and carried out in accordance with a detailed TRANSPORT SERVICE TIME SCHEDULE which shall be prepared by SUB-CONTRACTOR and submitted to CONTRACTOR, for CONTRACTOR’s review and approval, within 15 (fifteen) days from the EFFECTIVE DATE. \\nSuch detailed TRANSPORT SERVICE TIME SCHEDULE shall be based on the following Key Date(s) and TRANSPORT SERVICE TIME SCHEDULE shall be periodically reviewed to meet CONTRACTOR’s requirements:\\nThe COMMENCEMENT DATE on which SUB-CONTRACTOR shall commence to perform the TRANSPORT SERVICE is DD/MM/YYYY. \\nThe COMPLETION DATE on within which SUB-CONTRACTOR shall complete the performance of the TRANSPORT SERVICE is DD/MM/YYYY.[A2]\\n\\n6. LOADING POINT AND SITE OF DELIVERY\\nThe LOADING POINT of the TRANSPORT SERVICE CONTRACT is: \\n.................................\\nThe SITE OF DELIVERY of the TRANSPORT SERVICE CONTRACT is:\\n……………………………………………\\n[to be indicated also the delivery terms - i.e Free on truck, Free In ] [A3]\\n\\n7. APPROVAL OF SUB-CONTRACTOR DOCUMENTS \\n7.1 With reference to Clauses 4 “APPROVAL OF SUB-CONTRACTOR DOCUMENTS” and 5 “PROGRESS OF THE TRANSPORT SERVICE” of the General Terms and Conditions, SUB-CONTRACTOR shall submit to CONTRACTOR all SUB-CONTRACTOR DOCUMENTS for approval, as specified in the Transport Service Planning and Work Progress Monitoring.\\n7.2 With reference to Clause 4 “APPROVAL OF SUB-CONTRACTOR DOCUMENTS” of the General Terms and Conditions, SUB-CONTRACTOR shall return the SUB-CONTRACTOR DOCUMENTS duly revised to CONTRACTOR within … (…) days from the day they were sent to SUB-CONTRACTOR for such revision.[A4]\\n[terms to be provided by the Project Team / Technical Department - OR - in accordance with the TRANSPORT SERVICE CONTRACT DOCUMENTS]\\n\\n8. TRANSIT TIME[A5]\\nThe SUB-CONTRACTOR shall deliver the GOODS to the SITE OF DELIVERY within the following TRANSIT TIME:\\nTransport to …\\na)\\tConventional service (OS-OW included)\\n-\\t…days from …\\n-\\t……………………………………………\\nb)\\tContainer Service\\n-\\t…days from …\\n-\\t……………………………………………\\nc)\\tAirfreight Service\\n-\\t…days from …\\n-\\t……………………………………………\\nThe TRANSIT TIME shall be calculated from the COMMENCEMENT DATE of transport to the date of arrival at the SITE OF DELIVERY.\\n\\n9. COMPLETION OF THE TRANSPORT SERVICE\\n \\tWith reference to Clause 2 “COMPLETION OF THE TRANSPORT SERVICE” of the General Terms and Conditions, CONTRACTOR shall notify SUB-CONTRACTOR that the TRANSPORT SERVICE is completed through proper progress report or the reasons for not considering the TRANSPORT SERVICE completed by... [mail, signing of documents, ...]. \\n\\n10. LIQUIDATED DAMAGES [A6]\\n10.1. With reference to Clause 10 “LIQUIDATED DAMAGES” of the General Terms and Conditions, SUB-CONTRACTOR shall be liable of the following:  Liquidated damages payable to CONTRACTOR in case of........................... [COMMENCEMENT DATE/TRANSIT TIME / COMPLETION DATE] of the TRANSPORT SERVICE is delayed beyond the........................ [The COMMENCEMENT DATE/TRANSIT TIME/COMPLETION DATE] are equal to X% (… percent) of the TOTAL TRANSPORT SERVICE CONTRACT AMOUNT for each … [day or full week] by which The .............[COMMENCEMENT DATE/TRANSIT TIME / COMPLETION DATE] of the TRANSPORT SERVICE is delayed.\\n10.2. The LIQUIDATED DAMAGES shall in case exceed ......% (....... percent) of the TOTAL TRANSPORT SERVICE CONTRCAT AMOUNT.\\n[suggested not less of 10%]\\n[a grace period is considered only in case of Project Team / Technical Department authorization]\\n\\n11. TAXES\\nThe TOTAL TRANSPORT SERVICE CONTRACT AMOUNT shall be inclusive of all taxes, except for the Value Added Tax, or the sales tax, or any similar indirect tax that, where applicable, shall be indicated separately. \\n12. PRICING \\nPrice(s) shall be as set out in the Price list.\\nThis TRANSPORT SERVICE CONTRACT allows for a TOTAL SERVICE CONTRACT AMOUNT [MAXIMUM AMOUNT] of .................... .\\n\\n13. INVOICING \\n2 \\n13.1 With reference to Clause 16 “INVOICING AND PAYMENT” of the General Terms and Conditions, the TRANSPORT SERVICE shall be invoiced as follows: \\na. Upon the fulfillment of relevant contractual obligations by SUB-CONTRACTOR, SUB-CONTRACTOR shall issue for verification and acceptance to CONTRACTOR’s Representative (copy to be transmitted via e-mail in .pdf format) pro-forma invoice(s) for each of the invoice(s) relevant to TRANSPORT SERVICE, along with the back-up documentation agreed by the PARTIES, such as TRANSPORT SERVICE progress status, certificates and approved site timesheets. [documentation list to be adjusted/completed where necessary on a case by case basis]. \\nb. Upon verification and acceptance by CONTRACTOR’s Representative of the pro-forma invoice(s[A7]) and relevant back-up documentation, the pro-forma invoice shall be approved and a Progress Report shall be issued by CONTRACTOR confirming the relevant value is released for payment and entitling SUB-CONTRACTOR to invoice accordingly. The Progress Report is the official document issued by CONTRACTOR, which certifies the progress of the TRANSPORT SERVICE rendered by SUB-CONTRACTOR.\\nc. The invoice(s) shall be issued after completion of the TRANSPORT SERVICE and fulfilment of any and all the above steps shall constitute a condition precedent to SUB-CONTRACTOR issuing invoices for the TRANSPORT SERVICE and CONTRACTOR paying in accordance with the payment terms.\\nd. As minimum, any and all SUB-CONTRACTOR’s invoice(s) shall make reference to this TRANSPORT SERVICE CONTRACT No. and to the relevant Progress Report(s) No.\\ne. The invoice(s) shall be accompanied with copy of relevant Progress Report(s) issued by CONTRACTOR and shall be addressed as follows:\\n…………………… [Saipem Company Name]\\n…………………… [Address]\\n13.2  Advanced Payment [If applicable]\\n13.2.1 \\tBy entering in this TRANSPORT SERVICE CONTRACT pursuant to the Clause 2 “ACCEPTANCE” here above, SUB-CONTRACTOR shall invoice for an amount equal to ……% (… per cent) of the TOTAL TRANSPORT SERVICE CONTRACT AMOUNT.\\n[not more than 10%]\\n14. PAYMENT \\n14.1 All payments to SUB-CONTRACTOR for the TRANSPORT SERVICE shall be made within … (….) days from receipt of correctly prepared and adequately supported invoice(s).[A8]\\n14.2 Fulfilment of any and all the steps described in Clause 16 “INVOICING AND PAYMENT” of the General Terms and Conditions, shall constitute a condition precedent to SUB-CONTRACTOR’s entitlement to issue invoices for the TRANSPORT SERVICE and CONTRACTOR’s obligation to pay in accordance with payment terms.\\n14.3 With reference to Sub-Clause 16.2 “INVOICING AND PAYMENT” of the General Terms and Conditions, SUB-CONTRACTOR shall provide adequate documentation on bank headed paper (e.g. bank certification, bank statement) certifying that the provided SUB-CONTRACTOR bank account effectively belongs to SUB-CONTRACTOR. The same documentation shall be provided by SUB-CONTRACTOR also in case of any change of the bank account details previously communicated. The provision of such documentation is a necessary condition for CONTRACTOR to proceed with the payments.\\n14.4 Currency: SUB-CONTRACTOR\\'s invoices shall be issued and paid in … currency.\\n14.5 Retention Money [If applicable][A9]\\n14.5.1 All payments, except the advance payment, made to SUB-CONTRACTOR in accordance with the TRANSPORT SERVICE CONTRACT DOCUMENTS shall be subject to retention of an amount equal to …. % (…. percent) of each invoice. \\n[not less than 5%]\\n14.6 Flow Traceability [in case the project is subject to the Italian law n. 136 of 2010 referred to the financial flow traceability]\\n14.6.1 Both PARTIES shall comply the financial flow traceability obligations required by art. 3 of Italian Law n. 136 of 2010.\\n14.6.2 In case of non-compliance with the above, the TRANSPORT SERVICE CONTRACT shall be terminated as per the Clause 21 “TERMINATION” of the General Terms and Conditions. In relation to any financial transaction, each bank transfer shall be made into a dedicated bank account and shall refer to the Tender Identification Code (Codice Identificativo Gara-CIG) and to Project Identification Code (Codice Unico di Progetto – CUP), if applicable.\\n14.6.3 In addition to the above, SUB-CONTRACTOR shall send to CONTRACTOR, by means of an appropriate written declaration, such identification details of the dedicated bank account, personal details and fiscal codes, if applicable, of the persons empowered to operate on it. The declaration shall be drawn up as per “FORM-COR-PROC-040-E”. Any change to any details of the previously communicated dedicated bank account shall be immediately notified in writing by SUB-CONTRACTOR to CONTRACTOR.\\n15. PARENT COMPANY GUARANTEE AND BANK GUARANTEES[A10]\\n3 \\nWith reference to the Clause 17 “PARENT COMPANY GUARANTEE AND BANK GUARANTEES” of the General Terms and Conditions, SUB-CONTRACTOR shall provide the following guarantees:\\nPARENT COMPANY GUARANTEE\\nSUB-CONTRACTOR shall provide a Parent Company Guarantee within …. (….) days from the EFFECTIVE DATE.    [15 days]\\n\\t                 PERFORMANCE BOND\\nSUB-CONTRACTOR shall provide a Performance Bond of an amount equal to …% (… percent) of the TOTAL TRANSPORT SERVICE CONTRACT AMOUNT. Such Performance Bond shall be issued as per the Performance Bond Form hereto attached.\\n[not less than 10%]\\nSUB-CONTRACTOR shall provide CONTRACTOR with the Performance Bond within …. (….) days from the EFFECTIVE DATE.\\n[15 days]\\nADVANCE PAYMENT BOND\\n….% (…. percent) of the TOTAL TRANSPORT SERVICE CONTRACT AMOUNT. Such Advance Payment Bond shall be issued as per the Advance Payment Bond Form hereto attached. \\n[the same value of Advanced Payment]\\nSUB-CONTRACTOR shall provide CONTRACTOR with the Advance Payment Bond within …… (….) days from the EFFECTIVE DATE.\\n[15 days]\\nThe Advance Payment Bond shall be released upon complete recovery of the Advance Payment. \\n16. LIMITATION OF LIABILITY \\nWith reference to the Clause 25 “LIMITATION OF LIABILITY” of the General Terms and Conditions, SUB-CONTRACTOR\\'s liability towards CONTRACTOR under or in connection with the TRANSPORT SERVICE CONTRACT DOCUMENTS shall be limited to …. 5% (FIVE percent) [A11]of the TOTAL TRANSPORT SERVICE CONTRACT AMOUNT.\\n[not less than the TOTAL TRANSPORT SERVICE CONTRACT AMOUNT]\\n17. INSURANCE REQUIREMENTS\\n17.1 SUB-CONTRACTOR shall obtain and maintain throughout the duration of the TRANSPORT SERVICE CONTRACT DOCUMENTS the insurance coverage as provided in the Clause 26 “INSURANCE REQUIREMENTS” of the General Terms and Conditions, with the following limit(s):\\n17.1.1 \\tComprehensive General Third Party Liability Insurance with a limit per occurrence of not less than ……………………………….[A12]\\n17.1.2 \\tWorkmen\\'s Compensation Insurance with a limit per occurrence of not less than ………………………………\\n17.1.3  Employer\\'s Liability Insurance with a limit per occurrence of not less than ………………………………[A13]\\n 17.1.4     [IF APPLICABLE] Protection and Indemnity Insurance, including oil pollution liability in respect of each vessel or watercraft owned and/or employed in operations by SUB-CONTRACTOR with a limit per occurrence of not less than ………………………………\\n17.1.5      [IF NOT COVERED BY GENERAL LIABILITY INSURANCE] and if applicable for vessels chartered by SUB-CONTRACTOR] Charterer\\'s Liability Insurance with a limit per occurrence of not less than ……………………………… \\n[mandatory Insurance: to be defined according the main contract/site situation of the Project]\\n18. REPRESENTATIVES\\n18.1 \\n18.1 Prior to the commencement of the TRANSPORT SERVICE, CONTRACTOR shall designate in writing its Representative in all matters related to the TRANSPORT SERVICE CONTRACT DOCUMENTS, to supervise the management of the TRANSPORT SERVICE CONTRACT DOCUMENTS including the issuance and receipt of communications from SUB-CONTRACTOR.\\n18.2 All communications given by CONTRACTOR\\'s Representative to SUB-CONTRACTOR in accordance with the TRANSPORT SERVICE CONTRACT DOCUMENTS shall be binding upon CONTRACTOR.\\n18.3 Prior to the commencement of the TRANSPORT SERVICE and in no case later than 5 (five) days form the EFFECTIVE DATE, SUB-CONTRACTOR shall designate in writing an experienced SUB-CONTRACTOR\\'s Representative who shall be fully knowledgeable in all aspects of the TRANSPORT SERVICE CONTRACT DOCUMENTS and the TRANSPORT SERVICE, and shall have full charge of all operations of SUB-CONTRACTOR in respect of the TRANSPORT SERVICE, and full authority to represent SUB-CONTRACTOR in all matters related to the performance of the TRANSPORT SERVICE CONTRACT DOCUMENTS.\\n18.4 All communications given to SUB-CONTRACTOR\\'s Representative by CONTRACTOR in accordance with the TRANSPORT SERVICE CONTRACT DOCUMENTS shall be binding upon SUB-CONTRACTOR.\\n18.5 SUB-CONTRACTOR Representative must be fully aware of all aspects relating to the management of the CONTRACT and the TRANSPORT SERVICE and shall have the full and exclusive coordination of its personnel and/or self-employed and/or seconded workers, used by the SUB-CONTRACTOR in the TRANSPORT SERVICE. Such SUB-CONTRACTOR Representative shall be present at the CONTRACTOR’s SITE whenever the TRANSPORT SERVICE is provided in its side/premises.\\n19. CORRISPONDENCE-NOTICES-LANGUAGE\\n\\n19.1 \\tAll written correspondence or documents generated under and/or in connection with the TRANSPORT SERVICE CONTRACT DOCUMENTS shall quote the following:\\na. TRANSPORT SERVICE CONTRACT number and initials;\\nb. SITE OF DELIVERY; and\\nc. name of the PROJECT, where applicable.\\n19.2 \\tCorrespondence and notices shall be delivered to the following addresses:\\nCONTRACTOR:\\nSUB-CONTRACTOR:\\n19.3 \\tAll notices to be given with respect to the TRANSPORT SERVICE CONTRACT DOCUMENTS shall be considered valid only if sent from CONTRACTOR’s Representative to SUB-CONTRACTOR’s Representative, and vice versa. Such notices shall be delivered personally or sent by registered or certified mail, return receipt requested, or by facsimile, or other form of telecommunication. The addresses of notice, and the references of the relevant Representative for CONTRACTOR and SUB-CONTRACTOR shall be specified in the TRANSPORT SERVICE CONTRACT. Such notices shall be effective as from the date of receipt thereof.\\n19.4 \\tEither PARTY may change the address, and the references of its Representative by giving at least 15 (fifteen) days prior notice to the other PARTY.\\n19.5\\tThe English language shall be used by the PARTIES in all correspondence and documents (including without limitation all SUB-CONTRACTOR DOCUMENTS) prepared or exchanged hereunder or related hereto.\\n20. PERSONAL DATA PROTECTION ACTIVITIES\\n[THIS CLAUSE SHALL APPLY IN CASE THE OTHER PARTY OF THE CONTRACT IS NOT APPOINTED AS EXTERNAL DATA PROCESSOR the specifications highlighted in green are applicable only in case of at least one of the PARTY is an Italian legal entity.]\\xa0\\n20.1\\tThe PARTIES undertake to comply with the requirements of [D. Lgs.196/2003 (hereinafter: “Privacy Code”), as amended by D. Lgs. 101/2018] and EU Regulation 2016/679 issued by the European Parliament and Council on 27 April 2016 regarding “the protection of natural persons with regard to the processing of personal data and the free movement of such data\" (hereinafter GDPR) commencing on the applicable date, in addition to relevant national standards and regulations set out by the Italian Data Protection Authority.\\n20.2\\tBy signing this TRANSPORT SERVICE CONTRACT, each PARTY hereby acknowledges that personal data relating to its employees/collaborators involved in the TRANSPORT SERVICE, will be processed by the other PARTY as Autonomous Data Controller, for the purposes of executing the TRANSPORT SERVICE CONTRACT only. The personal data will be processed, in accordance to the principles of lawfulness and fairness, in order to protect the rights and freedoms of data subjects, in compliance with technical and organizational measures to ensure a level of security appropriate to the risk, in manual and/or automatic mode, taking exclusively any responsibilities that may arise from the TRANSPORT SERVICE CONTRACT.\\n20.3\\tIn the event that, for the execution of the TRANSPORT SERVICE, THIRD PARTIES personal data need to be processed, each PARTY shall act as Autonomous Data Controller, fulfilling the obligation to inform the data subjects and, where required by law, collecting their consent.\\n\\n21. SPECIAL CONDITIONS \\n21.1 SUB-CONTRACTOR acknowledges that coronavirus COVID-19 pandemic is a known and/or foreseeable event, as well as the respective current and future measures attempting to limit/control the spread resulting thereof and the related direct and indirect effects. Therefore, SUB-CONTRACTOR agrees that such events shall not be considered as Force Majeure pursuant to and for the purposes of Clause 19 “FORCE MAJEURE” of the GENERAL TERMS AND CONDITIONS for TRANSPORT SERVICE CONTRACT DOCUMENTS and/or in any case as events which can legitimate SUB-CONTRACTOR’s delay or non-performance or SUB-CONTRACTOR’s request for additional costs. \\nSUB-CONTRACTOR declares that it has taken into account coronavirus COVID-19 pandemic and the risk of the adoption of new measures attempting to limit/control the spread resulting thereof, before entering into the TRANSPORT SERVICE CONTRACT DOCUMENTS and represents that it can manage any further implications of coronavirus COVID-19 pandemic, without seeking any modification to the TRANSPORT SERVICE CONTRACT DOCUMENTS.  The PARTIES acknowledge that the TRANSPORT SERVICE CONTRACT DOCUMENTS have been mutually agreed in all their aspects also in order to consider and regulate any constraints that may directly or indirectly arise due to the events described hereabove.\\n21.2 [in case rental is part of the transport service]\\nIn accordance with IFRS 16 principles, the SUB-CONTRACTOR declares that the SCOPE OF TRANSPORT SERVICE of the present TRANSPORT SERVICE CONTRACT is split as follows:\\n - Rental part equal to [XXXXXX]\\n-  Service part equal to [XXXXXXX]\\n\\n21.3 [TO BE INSERTED, IF ANY, ON A CASE BY CASE BASIS]\\n\\n22. LAW N. 136 OF 2010 – FINANCIAL FLOW TRACEABILITY \\n [in case the project is subject to the Italian law n. 136 of 2010 referred to the financial flow traceability]\\n22.1 \\tAny and all agreements made between SUB-CONTRACTOR and any of its Sub-Contractors or Sub-Suppliers of any tier shall include a mutual specific clause whereby both relevant parties commit to comply with the financial flow traceability obligations required by the Italian Law n. 136 of 13 August 2010 (“Law n. 136 of 2010”). In case of non-compliance with the above, that contract is deemed to be null and void. If, either SUB-CONTRACTOR or any of its Sub-Contractors or Sub-Suppliers has knowledge of any non-compliance by its counterparty with the aforesaid obligations, it shall immediately inform both CONTRACTOR and the relevant Italian authority (i.e. the competent Prefecture - Territorial Office of the Government of the Province).\\nIn addition to the above, SUB-CONTRACTOR shall send to CONTRACTOR a written declaration, signed by its legal representative, whereby SUPPLIER confirms that appropriate clauses according to Law n. 136 of 2010 are included in each contract signed between SUB-CONTRACTOR and any of its Sub-Contractors or Sub-Suppliers. The declaration shall be drawn up as per “FORM-COR-PROC-041-E”.\\n23.2\\tWhere CONTRACTOR  expressly authorizes the assignment of any and all credits due to SUB-CONTRACTOR  under this TRANSPORT SERVICE CONTRACT to any third party (hereinafter referred to as the “ASSIGNEE”), SUB-CONTRACTOR  shall send to the ASSIGNEE a written declaration which includes the identification details of the “dedicated” bank account according to Law n. 136 of 2010, personal details and fiscal codes of the persons empowered to operate on the dedicated bank account (or the indication of an equivalent document in the case of foreign persons), the Tender Identification Code (“Codice Identificativo Gara”-CIG), the Project Identification Code (“Codice Unico di Progetto” – CUP), and the relevant number of the assigned contract.  \\n\\n[signature]\\n\\n\\n\\n[Note: each page of the TRANSPORT SERVICE CONTRACT and of the General Terms and Conditions shall be initialled by both PARTIES]\\n\\n\\n\\n\\n\\n\\n\\n\\n\\n\\n\\n\\n\\n\\n\\n\\n\\nComments on General Terms and Conditions:\\n• Article 8. SUB-CONTRACTOR’S RESPONSIBILITIES IN RELATION TO THE GOODS The Whole Article shall be reviewed by operations\\n• Article 9. Obligations\\no 9.2.c provide all management, supervision, personnel, materials, equipment, means of transport and all other things whether of a temporary or permanent nature required for the TRANSPORT SERVICE;\\no 9.2.e provide all necessary permits, licenses, and any other authorizations for the performance of the TRANSPORT SERVICE, except for those which must be obtained by CONTRACTOR, as specified in the TRANSPORT SERVICE CONTRACT;\\no 9.2.g prepare and submit SUB-CONTRACTOR DOCUMENTS, including Quality Control Plan and a detailed TRANSPORT SERVICE TIME SCHEDULE showing chronological order of major activities, key dates, for CONTRACTOR\\'s review and approval as specified in the TRANSPORT SERVICE CONTRACT DOCUMENTS;\\no 9.4 All costs and charges that may be incurred by SUB-CONTRACTOR under this Clause shall be borne by SUB-CONTRACTOR and be deemed to be included in and covered by the TOTALTRANSPORT SERVICE CONTRACT AMOUNT.\\n• Article 11. TITLE AND RISK\\no SUB-CONTRACTOR shall be responsible for the care and custody of the GOODS from the COMMENCEMENT DATE, at the condition stated in Clause 8 “SUB-CONTRACTOR’S RESPONSIBILITIES IN RELATION TO THE GOODS”, until the date of the COMPLETION OF THE TRANSPORT SERVICE in accordance with Clause 2 “COMPLETION OF THE TRANSPORT SERVICE”.\\no Title to the GOODS shall remain with CONTRACTOR for the whole duration of the TRANSPORT SERVICE.\\nArticle 14. PRICING• \\n\\n14.2 All prices and rates set forth in the TRANSPORT SERVICE CONTRACT shall be firm and fixed and shall not be subject to escalation or exchange rate variation of any kind for the entire duration of the TRANSPORT SERVICE CONTRACT DOCUMENTS. Article \\n\\n• Article 18. SUSPENSION FOR CONVENIENCE\\no CONTRACTOR in its absolute and sole discretion shall be entitled to instruct SUBCONTRACTOR to suspend the TRANSPORT SERVICE for any reason, by giving notice (“Notice of Suspension”) thereof to SUB-CONTRACTOR. The Notice of Suspension shall specify the date of suspension and the estimated duration of the suspension.\\n\\n21. Terminations:\\no TERMINATION FOR CONVENIENCE\\no 21.7 CONTRACTOR in its absolute and sole discretion may terminate the TRANSPORT SERVICE CONTRACT or any part thereof for any reason and at any time by giving 10 (ten) days’ notice thereof to SUB-CONTRACTOR.\\n• Article 23 DAMAGE OR LOSS OF THE GOODS, \\no What is the maximum value of the goods per full truck load/trip by land\\no Are we dealing with sea or air freight under this agreement?\\no SUB-CONTRACTOR shall be liable for damage to or loss of the GOODS arising out of or in connection with SUB-CONTRACTOR GROUP\\'s performance or non-performance of the TRANSPORT SERVICE CONTRACT DOCUMENTS in accordance with the following provisions: SEA TRANSPORT, ROAD TRANSPORT, AIR TRANSPORT\\n• 26. INSURANCE REQUIREMENTS\\no h. SUB-CONTRACTOR’s All Risks Insurance covering property and or equipment owned, leased or used by SUB-CONTRACTOR in the performance of the TRANSPORT SERVICE, up to the full replacement value of such property and or equipment;\\no The deductibles of the Insurances specified in this Clause shall be borne by SUB-CONTRACTOR.\\no The policies described under this Clause, other than Workman’s Compensation and Employers Liability, shall provide (i) that CONTRACTOR GROUP is named additional assured to the extent of the liabilities assumed by SUB‐CONTRACTOR under the TRANSPORT SERVICE CONTRACT and (ii) that the insurers waive all rights of subrogation against CONTRACTOR GROUP and its sub-supplier and/or sub-contractor of any tier.\\n[A1]Duration it\\'s not mentioned\\n[A2]Please fill-in\\n[A3]Please add in case of any delay in offloading at site, detention charges shall apply\\n[A4]Shall be considered by operations and filled-in\\n[A5]All transit time shall be filled-in as per our operations confirmation \\n[A6]Filled-in , and I recommend , 0.5% PER LINE ITEM FOR EVERY WEEK DELAY, UP TO AND MAXIMUM 5% OF CONTRQCT VALUE FOR ALL DELAYS AGGREGATED DURING THE COURSE OF THE CONTRACT\\n[A7]NO PRO-FORMA INVOICE UNDER THIS CONTRACT\\n[A8]30 DAYS\\n[A9]RETENSION, MAXIMUM 5%\\n[A10]MAXIMUM 10% \\n[A11]I\\'VE PUT 5%, WHAT IS THE TOTAL CONTRACT VALUE?\\n[A12]OUR MAXIMUM INSURANCE IS 5,000,000 SAR FOR BODILY INJURY AND /OR 3RD PARTY PROPERTY DAMAGE ANY ONCE OCCURANCE AND 18,750,000 SA AGGREGATED\\n[A13]!\\n\\n\\n \\nTEMPLATE\\nGroup\\n\\nTRANSPORT SERVICE CONTRACT \\nDoc. no. TMP_GR-GROUP-SC-PRO_MOD-510-E\\n\\n\\nRev. 01\\nDate 03/08/2021\\n\\n\\nPage 1 of 3\\n\\n\\n\\n\\n\\n\\n\\n\\n\\n\\n\\n\\n\\n\\n\\n \\nTEMPLATE\\nGroup\\n\\nTRANSPORT SERVICE CONTRACT \\n\\nDoc. no. TMP_GR-GROUP-SC-PRO_MOD-510-E\\n\\n\\nRev. 01\\nDate 03/08/2021\\n\\n\\nPage 1 of 3\\n\\n\\n'"
            ],
            "application/vnd.google.colaboratory.intrinsic+json": {
              "type": "string"
            }
          },
          "metadata": {},
          "execution_count": 48
        }
      ]
    },
    {
      "cell_type": "code",
      "source": [
        "#with open('MPLXLP_06_17_2015-EX-10.1-TRANSPORTATION SERVICES AGREEMENT.txt', 'w') as f:\n",
        "#    f.write(' '.join(contract.split()))"
      ],
      "metadata": {
        "id": "gr2lhgmt9vkc"
      },
      "id": "gr2lhgmt9vkc",
      "execution_count": null,
      "outputs": []
    },
    {
      "cell_type": "code",
      "source": [
        "predictions = run_prediction(questions, contract, 'cuad-models/roberta-base/')"
      ],
      "metadata": {
        "colab": {
          "base_uri": "https://localhost:8080/"
        },
        "id": "7RjtbArT-NBA",
        "outputId": "9e89530f-5b8f-4787-89be-1ff68c616fc8"
      },
      "id": "7RjtbArT-NBA",
      "execution_count": 49,
      "outputs": [
        {
          "output_type": "stream",
          "name": "stderr",
          "text": [
            "convert squad examples to features: 100%|██████████| 41/41 [00:31<00:00,  1.29it/s]\n",
            "add example index and unique id: 100%|██████████| 41/41 [00:00<00:00, 16544.78it/s]\n"
          ]
        }
      ]
    },
    {
      "cell_type": "code",
      "source": [
        "predictions"
      ],
      "metadata": {
        "colab": {
          "base_uri": "https://localhost:8080/"
        },
        "id": "lUEMX5yW-k9a",
        "outputId": "aa2cc084-086f-44c0-b13c-e8f6d53eeb3a"
      },
      "id": "lUEMX5yW-k9a",
      "execution_count": 50,
      "outputs": [
        {
          "output_type": "execute_result",
          "data": {
            "text/plain": [
              "OrderedDict([('0', 'TRANSPORT SERVICE CONTRACT'),\n",
              "             ('1', ''),\n",
              "             ('2', '03/08/2021'),\n",
              "             ('3',\n",
              "              'Such notices shall be effective as from the date of receipt thereof.'),\n",
              "             ('4',\n",
              "              'The EFFECTIVE DATE of the TRANSPORT SERVICE CONTRACT is DD/MM/YYYY or the earliest to occur amongst: i) five (5) days after the date indicated on TRANSPORT SERVICE CONTRACT first page; ii) the date of signature of the Letter of Acceptance by SUB-CONTRACTOR.[A1]'),\n",
              "             ('5', ''),\n",
              "             ('6', ''),\n",
              "             ('7', ''),\n",
              "             ('8', ''),\n",
              "             ('9', ''),\n",
              "             ('10', ''),\n",
              "             ('11', ''),\n",
              "             ('12', ''),\n",
              "             ('13', ''),\n",
              "             ('14', ''),\n",
              "             ('15',\n",
              "              'CONTRACTOR in its absolute and sole discretion may terminate the TRANSPORT SERVICE CONTRACT or any part thereof for any reason and at any time by giving 10 (ten) days’ notice thereof to SUB-CONTRACTOR.'),\n",
              "             ('16', ''),\n",
              "             ('17', ''),\n",
              "             ('18', ''),\n",
              "             ('19',\n",
              "              'PERFORMANCE BOND SUB-CONTRACTOR shall provide a Performance Bond of an amount equal to …% (… percent) of the TOTAL TRANSPORT SERVICE CONTRACT AMOUNT.'),\n",
              "             ('20', ''),\n",
              "             ('21',\n",
              "              'As minimum, any and all SUB-CONTRACTOR’s invoice(s) shall make reference to this TRANSPORT SERVICE CONTRACT No. and to the relevant Progress Report(s) No. e. The invoice(s) shall be accompanied with copy of relevant Progress Report(s) issued by CONTRACTOR and shall be addressed as follows: …………………… [Saipem Company Name] …………………… [Address] 13.2 Advanced Payment [If applicable] 13.2.1 By entering in this TRANSPORT SERVICE CONTRACT pursuant to the Clause 2 “ACCEPTANCE” here above, SUB-CONTRACTOR shall invoice for an amount equal to ……% (… per cent) of the TOTAL TRANSPORT SERVICE CONTRACT AMOUNT. [not more than 10%]'),\n",
              "             ('22',\n",
              "              'SUB-CONTRACTOR’s All Risks Insurance covering property and or equipment owned, leased or used by SUB-CONTRACTOR in the performance of the TRANSPORT SERVICE, up to the full replacement value of such property and or equipment;'),\n",
              "             ('23', ''),\n",
              "             ('24', ''),\n",
              "             ('25', ''),\n",
              "             ('26', ''),\n",
              "             ('27', ''),\n",
              "             ('28', ''),\n",
              "             ('29', ''),\n",
              "             ('30', ''),\n",
              "             ('31', ''),\n",
              "             ('32', ''),\n",
              "             ('33', ''),\n",
              "             ('34',\n",
              "              \"With reference to the Clause 25 “LIMITATION OF LIABILITY” of the General Terms and Conditions, SUB-CONTRACTOR's liability towards CONTRACTOR under or in connection with the TRANSPORT SERVICE CONTRACT DOCUMENTS shall be limited to …. 5% (FIVE percent) [A11]of the TOTAL TRANSPORT SERVICE CONTRACT AMOUNT. [not less than the TOTAL TRANSPORT SERVICE CONTRACT AMOUNT]\"),\n",
              "             ('35',\n",
              "              \"With reference to the Clause 25 “LIMITATION OF LIABILITY” of the General Terms and Conditions, SUB-CONTRACTOR's liability towards CONTRACTOR under or in connection with the TRANSPORT SERVICE CONTRACT DOCUMENTS shall be limited to …. 5% (FIVE percent) [A11]of the TOTAL TRANSPORT SERVICE CONTRACT AMOUNT. [not less than the TOTAL TRANSPORT SERVICE CONTRACT AMOUNT]\"),\n",
              "             ('36',\n",
              "              'With reference to Clause 10 “LIQUIDATED DAMAGES” of the General Terms and Conditions, SUB-CONTRACTOR shall be liable of the following: Liquidated damages payable to CONTRACTOR in case of........................... [COMMENCEMENT DATE/TRANSIT TIME / COMPLETION DATE] of the TRANSPORT SERVICE is delayed beyond the........................ [The COMMENCEMENT DATE/TRANSIT TIME/COMPLETION DATE] are equal to X% (… percent) of the TOTAL TRANSPORT SERVICE CONTRACT AMOUNT for each … [day or full week] by which The .............[COMMENCEMENT DATE/TRANSIT TIME / COMPLETION DATE] of the TRANSPORT SERVICE is delayed.'),\n",
              "             ('37', ''),\n",
              "             ('38',\n",
              "              'The deductibles of the Insurances specified in this Clause shall be borne by SUB-CONTRACTOR.'),\n",
              "             ('39', ''),\n",
              "             ('40', '')])"
            ]
          },
          "metadata": {},
          "execution_count": 50
        }
      ]
    },
    {
      "cell_type": "code",
      "source": [
        "contract"
      ],
      "metadata": {
        "id": "XSthYD5WdUBS",
        "colab": {
          "base_uri": "https://localhost:8080/",
          "height": 105
        },
        "outputId": "79d138f5-2ad2-4109-d129-afc11dd0c204"
      },
      "id": "XSthYD5WdUBS",
      "execution_count": 51,
      "outputs": [
        {
          "output_type": "execute_result",
          "data": {
            "text/plain": [
              "'\\ufeffTEMPLATE FOR\\n\\n\\t\\n\\n\\n\\n\\n TRANSPORT SERVICE CONTRACT \\n\\n\\n\\n\\nTemplate Code TMP_GR-GROUP-SC-PRO_MOD-510-E\\nRev. 01\\nDate 03/08/2021\\nThis cover will be removed in the final document.\\nHighlighted text in yellow describes the parts to be defined and the possible solutions to choose. \\n\\n\\n\\n\\n\\n\\t\\n       \\n\\n\\nSede legale di San Donato Milanese \\nVia Martiri di Cefalonia, 67\\nCapitale Sociale Euro 2.191.384.693 i.v.\\nRegistro Imprese di Milano, Codice Fiscale 00825790157 \\nPartita IVA 00825790157, R.E.A. Milano n. 788744\\n\\nsaipem.com\\n\\n\\n\\n\\nUffici:\\nVia Martiri di Cefalonia, 67\\n20097 San Donato Milanese \\nMilano - Italia\\n\\n\\nS. Donato Milanese\\ndate                                                                                              \\n\\nTransport Service Contract №\\n\\n\\n\\n\\n\\n\\n\\n\\n\\n\\n\\nVAT registr. № \\nVendor Code  \\ntel   \\ntelefax \\ne-mail \\n\\n\\nOur reference:  Transport Service Contract №    (to be quoted in any correspondence)\\n\\nSubject: Transport Service Contract\\n\\n\\n\\n\\nJob:\\n\\n\\nRequesting Center:\\n\\n\\n \\n\\nProc. Dept.\\xa0:\\nProc. Office\\xa0:\\nBuyer\\xa0:\\ntel.:\\ntelefax:\\ne-mail address:\\n \\n\\n\\nFor internal use\\nRef.PR:\\t\\n\\n\\n  Commencement Date:\\n  Completion date:\\n\\n\\n\\n\\n\\n\\n\\n\\nTotal Transport Service Contract Amount\\n\\n\\n\\n\\n\\n\\nThis TRANSPORT SERVICE CONTRACT is made by and between the following PARTIES, under the terms and conditions set forth in the TRANSPORT SERVICE CONTRACT DOCUMENTS.\\n\\n\\n\\nCONTRACTOR: [Saipem Company Name], a company established and existing under the laws of [State], with registered offices in [Address].\\n\\nSUB-CONTRACTOR: [Company Name], a company established and existing under the laws of [State], with registered offices in [Address].\\n\\n1. TRANSPORT SERVICE CONTRACT DOCUMENTS AND PRIORITY\\n1.1 The TRANSPORT SERVICE CONTRACT DOCUMENTS constitute the entire agreement between the PARTIES with respect to the TRANSPORT SERVICE and supersede all prior negotiations, representations and/or agreements, either written or oral, between or amongst the PARTIES with respect thereto.\\n1.2 No amendments to or modifications of any terms or conditions of the TRANSPORT SERVICE CONTRACT DOCUMENTS shall be valid unless made in writing and signed by both PARTIES.\\n1.3 The TRANSPORT SERVICE CONTRACT DOCUMENTS are complementary to each other and consist of the following documents, binding on both PARTIES. In case of inconsistency or conflicts, each document shall prevail over the others in the order set forth here below:\\na. the present TRANSPORT SERVICE CONTRACT, together with any REVISION thereto and the Attachments listed hereunder;\\nb. [If defined for specific project] Special Conditions related to the Project [insert the name of the relevant Project] (hereinafter referred to as the “Special Terms and Conditions” or “STC”);\\nc. General Terms and Conditions for TRANSPORT SERVICE CONTRACT DOCUMENTS Doc. SPC_GR-GROUP-SC-PRO_GTC-510-E-R01 (hereinafter referred to as the “General Terms and Conditions” or “GTCs”);\\nd. Scope of the TRANSPORT SERVICE [if applicable];\\ne. TRANSPORT SERVICE CONTRACT Prices [if applicable];\\nf. Health, Safety and Environment (HSE) Requirements;\\ng. Quality Requirements for Suppliers/Sub-contractors [if applicable];\\nh. CONTRACTOR TECHNICAL DOCUMENTS [specifications, drawings, planning and others if applicable];\\ni. SUB-CONTRACTOR DOCUMENTS and Certifications approved by CONTRACTOR [if applicable];\\nj. Model 231, including the Code of Ethics;\\n[or]\\nOrganization, Management and Control Model including the Code of Ethics;\\nk. Policy Sustainable Saipem, available at the following website: www.saipem.com\\nl. …………………………\\n[possible documents not listed above, and indication of possible priorities of the client]\\n1.4 The Attachments to the present TRANSPORT SERVICE CONTRACT are the following:\\na. Attachment 1 – Letter of Acceptance; \\nb. Attachment 2 – Scope of the TRANSPORT SERVICE [if applicable]; \\nc. Attachment 3 – Parent Company Guarantee Form - FORM_GR-GROUP-SC-PRO_MOD-104-E-R01 [if applicable];\\nd. Attachment 4 – Performance Bond Form - FORM_GR-GROUP-SC-PRO_MOD-101-E-R01 or FORM_GR-GROUP-SC-PRO_MOD-105-E-R01 [if applicable]; \\ne. Attachment 5 – Advance Payment Bond Form - FORM_GR-GROUP-SC-PRO_MOD-102-E-R01 or FORM_GR-GROUP-SC-PRO_MOD-106-E-R01 [if applicable];\\nf. Attachment 6 – Financial Flow Traceability - FORM-COR-PROC-040-E and FORM-COR-PROC-041-E [if applicable];\\ng. Attachment\\xa07\\xa0-\\xa0Volume Rebate Monitoring Form\\xa0[if applicable];\\xa0\\nh. Attachment 8\\xa0-\\xa0Transport Service\\xa0Planning and\\xa0Transport Service\\xa0Progress Monitoring\\xa0[if applicable];\\xa0\\ni. Attachment 11 – List of Annexes [if applicable].\\n2. ACCEPTANCE\\nWithin 5 (five) days of receipt of the TRANSPORT SERVICE CONTRACT issued by CONTRACTOR, SUB-CONTRACTOR shall complete, sign and return to CONTRACTOR the Letter of Acceptance, attached to the TRANSPORT SERVICE CONTRACT, together with other documents therein specified.\\n3. SCOPE OF THE TRANSPORT SERVICE CONTRACT DOCUMENTS\\nSUB-CONTRACTOR shall perform, carry out and provide to CONTRACTOR the TRANSPORT SERVICE as described in the Scope of TRANSPORT SERVICE, in accordance with the TRANSPORT SERVICE CONTRACT DOCUMENTS.\\n4. EFFECTIVE DATE AND DURATION OF THE TRANSPORT SERVICE CONTRACT\\nThe EFFECTIVE DATE of the TRANSPORT SERVICE CONTRACT is DD/MM/YYYY or the earliest to occur amongst: i) five (5) days after the date indicated on TRANSPORT SERVICE CONTRACT first page; ii) the date of signature of the Letter of Acceptance by SUB-CONTRACTOR.[A1]\\n5. TRANSPORT SERVICE TIME SCHEDULE\\nThe TRANSPORT SERVICE under this TRANSPORT SERVICE CONTRACT shall be performed and carried out in accordance with a detailed TRANSPORT SERVICE TIME SCHEDULE which shall be prepared by SUB-CONTRACTOR and submitted to CONTRACTOR, for CONTRACTOR’s review and approval, within 15 (fifteen) days from the EFFECTIVE DATE. \\nSuch detailed TRANSPORT SERVICE TIME SCHEDULE shall be based on the following Key Date(s) and TRANSPORT SERVICE TIME SCHEDULE shall be periodically reviewed to meet CONTRACTOR’s requirements:\\nThe COMMENCEMENT DATE on which SUB-CONTRACTOR shall commence to perform the TRANSPORT SERVICE is DD/MM/YYYY. \\nThe COMPLETION DATE on within which SUB-CONTRACTOR shall complete the performance of the TRANSPORT SERVICE is DD/MM/YYYY.[A2]\\n\\n6. LOADING POINT AND SITE OF DELIVERY\\nThe LOADING POINT of the TRANSPORT SERVICE CONTRACT is: \\n.................................\\nThe SITE OF DELIVERY of the TRANSPORT SERVICE CONTRACT is:\\n……………………………………………\\n[to be indicated also the delivery terms - i.e Free on truck, Free In ] [A3]\\n\\n7. APPROVAL OF SUB-CONTRACTOR DOCUMENTS \\n7.1 With reference to Clauses 4 “APPROVAL OF SUB-CONTRACTOR DOCUMENTS” and 5 “PROGRESS OF THE TRANSPORT SERVICE” of the General Terms and Conditions, SUB-CONTRACTOR shall submit to CONTRACTOR all SUB-CONTRACTOR DOCUMENTS for approval, as specified in the Transport Service Planning and Work Progress Monitoring.\\n7.2 With reference to Clause 4 “APPROVAL OF SUB-CONTRACTOR DOCUMENTS” of the General Terms and Conditions, SUB-CONTRACTOR shall return the SUB-CONTRACTOR DOCUMENTS duly revised to CONTRACTOR within … (…) days from the day they were sent to SUB-CONTRACTOR for such revision.[A4]\\n[terms to be provided by the Project Team / Technical Department - OR - in accordance with the TRANSPORT SERVICE CONTRACT DOCUMENTS]\\n\\n8. TRANSIT TIME[A5]\\nThe SUB-CONTRACTOR shall deliver the GOODS to the SITE OF DELIVERY within the following TRANSIT TIME:\\nTransport to …\\na)\\tConventional service (OS-OW included)\\n-\\t…days from …\\n-\\t……………………………………………\\nb)\\tContainer Service\\n-\\t…days from …\\n-\\t……………………………………………\\nc)\\tAirfreight Service\\n-\\t…days from …\\n-\\t……………………………………………\\nThe TRANSIT TIME shall be calculated from the COMMENCEMENT DATE of transport to the date of arrival at the SITE OF DELIVERY.\\n\\n9. COMPLETION OF THE TRANSPORT SERVICE\\n \\tWith reference to Clause 2 “COMPLETION OF THE TRANSPORT SERVICE” of the General Terms and Conditions, CONTRACTOR shall notify SUB-CONTRACTOR that the TRANSPORT SERVICE is completed through proper progress report or the reasons for not considering the TRANSPORT SERVICE completed by... [mail, signing of documents, ...]. \\n\\n10. LIQUIDATED DAMAGES [A6]\\n10.1. With reference to Clause 10 “LIQUIDATED DAMAGES” of the General Terms and Conditions, SUB-CONTRACTOR shall be liable of the following:  Liquidated damages payable to CONTRACTOR in case of........................... [COMMENCEMENT DATE/TRANSIT TIME / COMPLETION DATE] of the TRANSPORT SERVICE is delayed beyond the........................ [The COMMENCEMENT DATE/TRANSIT TIME/COMPLETION DATE] are equal to X% (… percent) of the TOTAL TRANSPORT SERVICE CONTRACT AMOUNT for each … [day or full week] by which The .............[COMMENCEMENT DATE/TRANSIT TIME / COMPLETION DATE] of the TRANSPORT SERVICE is delayed.\\n10.2. The LIQUIDATED DAMAGES shall in case exceed ......% (....... percent) of the TOTAL TRANSPORT SERVICE CONTRCAT AMOUNT.\\n[suggested not less of 10%]\\n[a grace period is considered only in case of Project Team / Technical Department authorization]\\n\\n11. TAXES\\nThe TOTAL TRANSPORT SERVICE CONTRACT AMOUNT shall be inclusive of all taxes, except for the Value Added Tax, or the sales tax, or any similar indirect tax that, where applicable, shall be indicated separately. \\n12. PRICING \\nPrice(s) shall be as set out in the Price list.\\nThis TRANSPORT SERVICE CONTRACT allows for a TOTAL SERVICE CONTRACT AMOUNT [MAXIMUM AMOUNT] of .................... .\\n\\n13. INVOICING \\n2 \\n13.1 With reference to Clause 16 “INVOICING AND PAYMENT” of the General Terms and Conditions, the TRANSPORT SERVICE shall be invoiced as follows: \\na. Upon the fulfillment of relevant contractual obligations by SUB-CONTRACTOR, SUB-CONTRACTOR shall issue for verification and acceptance to CONTRACTOR’s Representative (copy to be transmitted via e-mail in .pdf format) pro-forma invoice(s) for each of the invoice(s) relevant to TRANSPORT SERVICE, along with the back-up documentation agreed by the PARTIES, such as TRANSPORT SERVICE progress status, certificates and approved site timesheets. [documentation list to be adjusted/completed where necessary on a case by case basis]. \\nb. Upon verification and acceptance by CONTRACTOR’s Representative of the pro-forma invoice(s[A7]) and relevant back-up documentation, the pro-forma invoice shall be approved and a Progress Report shall be issued by CONTRACTOR confirming the relevant value is released for payment and entitling SUB-CONTRACTOR to invoice accordingly. The Progress Report is the official document issued by CONTRACTOR, which certifies the progress of the TRANSPORT SERVICE rendered by SUB-CONTRACTOR.\\nc. The invoice(s) shall be issued after completion of the TRANSPORT SERVICE and fulfilment of any and all the above steps shall constitute a condition precedent to SUB-CONTRACTOR issuing invoices for the TRANSPORT SERVICE and CONTRACTOR paying in accordance with the payment terms.\\nd. As minimum, any and all SUB-CONTRACTOR’s invoice(s) shall make reference to this TRANSPORT SERVICE CONTRACT No. and to the relevant Progress Report(s) No.\\ne. The invoice(s) shall be accompanied with copy of relevant Progress Report(s) issued by CONTRACTOR and shall be addressed as follows:\\n…………………… [Saipem Company Name]\\n…………………… [Address]\\n13.2  Advanced Payment [If applicable]\\n13.2.1 \\tBy entering in this TRANSPORT SERVICE CONTRACT pursuant to the Clause 2 “ACCEPTANCE” here above, SUB-CONTRACTOR shall invoice for an amount equal to ……% (… per cent) of the TOTAL TRANSPORT SERVICE CONTRACT AMOUNT.\\n[not more than 10%]\\n14. PAYMENT \\n14.1 All payments to SUB-CONTRACTOR for the TRANSPORT SERVICE shall be made within … (….) days from receipt of correctly prepared and adequately supported invoice(s).[A8]\\n14.2 Fulfilment of any and all the steps described in Clause 16 “INVOICING AND PAYMENT” of the General Terms and Conditions, shall constitute a condition precedent to SUB-CONTRACTOR’s entitlement to issue invoices for the TRANSPORT SERVICE and CONTRACTOR’s obligation to pay in accordance with payment terms.\\n14.3 With reference to Sub-Clause 16.2 “INVOICING AND PAYMENT” of the General Terms and Conditions, SUB-CONTRACTOR shall provide adequate documentation on bank headed paper (e.g. bank certification, bank statement) certifying that the provided SUB-CONTRACTOR bank account effectively belongs to SUB-CONTRACTOR. The same documentation shall be provided by SUB-CONTRACTOR also in case of any change of the bank account details previously communicated. The provision of such documentation is a necessary condition for CONTRACTOR to proceed with the payments.\\n14.4 Currency: SUB-CONTRACTOR\\'s invoices shall be issued and paid in … currency.\\n14.5 Retention Money [If applicable][A9]\\n14.5.1 All payments, except the advance payment, made to SUB-CONTRACTOR in accordance with the TRANSPORT SERVICE CONTRACT DOCUMENTS shall be subject to retention of an amount equal to …. % (…. percent) of each invoice. \\n[not less than 5%]\\n14.6 Flow Traceability [in case the project is subject to the Italian law n. 136 of 2010 referred to the financial flow traceability]\\n14.6.1 Both PARTIES shall comply the financial flow traceability obligations required by art. 3 of Italian Law n. 136 of 2010.\\n14.6.2 In case of non-compliance with the above, the TRANSPORT SERVICE CONTRACT shall be terminated as per the Clause 21 “TERMINATION” of the General Terms and Conditions. In relation to any financial transaction, each bank transfer shall be made into a dedicated bank account and shall refer to the Tender Identification Code (Codice Identificativo Gara-CIG) and to Project Identification Code (Codice Unico di Progetto – CUP), if applicable.\\n14.6.3 In addition to the above, SUB-CONTRACTOR shall send to CONTRACTOR, by means of an appropriate written declaration, such identification details of the dedicated bank account, personal details and fiscal codes, if applicable, of the persons empowered to operate on it. The declaration shall be drawn up as per “FORM-COR-PROC-040-E”. Any change to any details of the previously communicated dedicated bank account shall be immediately notified in writing by SUB-CONTRACTOR to CONTRACTOR.\\n15. PARENT COMPANY GUARANTEE AND BANK GUARANTEES[A10]\\n3 \\nWith reference to the Clause 17 “PARENT COMPANY GUARANTEE AND BANK GUARANTEES” of the General Terms and Conditions, SUB-CONTRACTOR shall provide the following guarantees:\\nPARENT COMPANY GUARANTEE\\nSUB-CONTRACTOR shall provide a Parent Company Guarantee within …. (….) days from the EFFECTIVE DATE.    [15 days]\\n\\t                 PERFORMANCE BOND\\nSUB-CONTRACTOR shall provide a Performance Bond of an amount equal to …% (… percent) of the TOTAL TRANSPORT SERVICE CONTRACT AMOUNT. Such Performance Bond shall be issued as per the Performance Bond Form hereto attached.\\n[not less than 10%]\\nSUB-CONTRACTOR shall provide CONTRACTOR with the Performance Bond within …. (….) days from the EFFECTIVE DATE.\\n[15 days]\\nADVANCE PAYMENT BOND\\n….% (…. percent) of the TOTAL TRANSPORT SERVICE CONTRACT AMOUNT. Such Advance Payment Bond shall be issued as per the Advance Payment Bond Form hereto attached. \\n[the same value of Advanced Payment]\\nSUB-CONTRACTOR shall provide CONTRACTOR with the Advance Payment Bond within …… (….) days from the EFFECTIVE DATE.\\n[15 days]\\nThe Advance Payment Bond shall be released upon complete recovery of the Advance Payment. \\n16. LIMITATION OF LIABILITY \\nWith reference to the Clause 25 “LIMITATION OF LIABILITY” of the General Terms and Conditions, SUB-CONTRACTOR\\'s liability towards CONTRACTOR under or in connection with the TRANSPORT SERVICE CONTRACT DOCUMENTS shall be limited to …. 5% (FIVE percent) [A11]of the TOTAL TRANSPORT SERVICE CONTRACT AMOUNT.\\n[not less than the TOTAL TRANSPORT SERVICE CONTRACT AMOUNT]\\n17. INSURANCE REQUIREMENTS\\n17.1 SUB-CONTRACTOR shall obtain and maintain throughout the duration of the TRANSPORT SERVICE CONTRACT DOCUMENTS the insurance coverage as provided in the Clause 26 “INSURANCE REQUIREMENTS” of the General Terms and Conditions, with the following limit(s):\\n17.1.1 \\tComprehensive General Third Party Liability Insurance with a limit per occurrence of not less than ……………………………….[A12]\\n17.1.2 \\tWorkmen\\'s Compensation Insurance with a limit per occurrence of not less than ………………………………\\n17.1.3  Employer\\'s Liability Insurance with a limit per occurrence of not less than ………………………………[A13]\\n 17.1.4     [IF APPLICABLE] Protection and Indemnity Insurance, including oil pollution liability in respect of each vessel or watercraft owned and/or employed in operations by SUB-CONTRACTOR with a limit per occurrence of not less than ………………………………\\n17.1.5      [IF NOT COVERED BY GENERAL LIABILITY INSURANCE] and if applicable for vessels chartered by SUB-CONTRACTOR] Charterer\\'s Liability Insurance with a limit per occurrence of not less than ……………………………… \\n[mandatory Insurance: to be defined according the main contract/site situation of the Project]\\n18. REPRESENTATIVES\\n18.1 \\n18.1 Prior to the commencement of the TRANSPORT SERVICE, CONTRACTOR shall designate in writing its Representative in all matters related to the TRANSPORT SERVICE CONTRACT DOCUMENTS, to supervise the management of the TRANSPORT SERVICE CONTRACT DOCUMENTS including the issuance and receipt of communications from SUB-CONTRACTOR.\\n18.2 All communications given by CONTRACTOR\\'s Representative to SUB-CONTRACTOR in accordance with the TRANSPORT SERVICE CONTRACT DOCUMENTS shall be binding upon CONTRACTOR.\\n18.3 Prior to the commencement of the TRANSPORT SERVICE and in no case later than 5 (five) days form the EFFECTIVE DATE, SUB-CONTRACTOR shall designate in writing an experienced SUB-CONTRACTOR\\'s Representative who shall be fully knowledgeable in all aspects of the TRANSPORT SERVICE CONTRACT DOCUMENTS and the TRANSPORT SERVICE, and shall have full charge of all operations of SUB-CONTRACTOR in respect of the TRANSPORT SERVICE, and full authority to represent SUB-CONTRACTOR in all matters related to the performance of the TRANSPORT SERVICE CONTRACT DOCUMENTS.\\n18.4 All communications given to SUB-CONTRACTOR\\'s Representative by CONTRACTOR in accordance with the TRANSPORT SERVICE CONTRACT DOCUMENTS shall be binding upon SUB-CONTRACTOR.\\n18.5 SUB-CONTRACTOR Representative must be fully aware of all aspects relating to the management of the CONTRACT and the TRANSPORT SERVICE and shall have the full and exclusive coordination of its personnel and/or self-employed and/or seconded workers, used by the SUB-CONTRACTOR in the TRANSPORT SERVICE. Such SUB-CONTRACTOR Representative shall be present at the CONTRACTOR’s SITE whenever the TRANSPORT SERVICE is provided in its side/premises.\\n19. CORRISPONDENCE-NOTICES-LANGUAGE\\n\\n19.1 \\tAll written correspondence or documents generated under and/or in connection with the TRANSPORT SERVICE CONTRACT DOCUMENTS shall quote the following:\\na. TRANSPORT SERVICE CONTRACT number and initials;\\nb. SITE OF DELIVERY; and\\nc. name of the PROJECT, where applicable.\\n19.2 \\tCorrespondence and notices shall be delivered to the following addresses:\\nCONTRACTOR:\\nSUB-CONTRACTOR:\\n19.3 \\tAll notices to be given with respect to the TRANSPORT SERVICE CONTRACT DOCUMENTS shall be considered valid only if sent from CONTRACTOR’s Representative to SUB-CONTRACTOR’s Representative, and vice versa. Such notices shall be delivered personally or sent by registered or certified mail, return receipt requested, or by facsimile, or other form of telecommunication. The addresses of notice, and the references of the relevant Representative for CONTRACTOR and SUB-CONTRACTOR shall be specified in the TRANSPORT SERVICE CONTRACT. Such notices shall be effective as from the date of receipt thereof.\\n19.4 \\tEither PARTY may change the address, and the references of its Representative by giving at least 15 (fifteen) days prior notice to the other PARTY.\\n19.5\\tThe English language shall be used by the PARTIES in all correspondence and documents (including without limitation all SUB-CONTRACTOR DOCUMENTS) prepared or exchanged hereunder or related hereto.\\n20. PERSONAL DATA PROTECTION ACTIVITIES\\n[THIS CLAUSE SHALL APPLY IN CASE THE OTHER PARTY OF THE CONTRACT IS NOT APPOINTED AS EXTERNAL DATA PROCESSOR the specifications highlighted in green are applicable only in case of at least one of the PARTY is an Italian legal entity.]\\xa0\\n20.1\\tThe PARTIES undertake to comply with the requirements of [D. Lgs.196/2003 (hereinafter: “Privacy Code”), as amended by D. Lgs. 101/2018] and EU Regulation 2016/679 issued by the European Parliament and Council on 27 April 2016 regarding “the protection of natural persons with regard to the processing of personal data and the free movement of such data\" (hereinafter GDPR) commencing on the applicable date, in addition to relevant national standards and regulations set out by the Italian Data Protection Authority.\\n20.2\\tBy signing this TRANSPORT SERVICE CONTRACT, each PARTY hereby acknowledges that personal data relating to its employees/collaborators involved in the TRANSPORT SERVICE, will be processed by the other PARTY as Autonomous Data Controller, for the purposes of executing the TRANSPORT SERVICE CONTRACT only. The personal data will be processed, in accordance to the principles of lawfulness and fairness, in order to protect the rights and freedoms of data subjects, in compliance with technical and organizational measures to ensure a level of security appropriate to the risk, in manual and/or automatic mode, taking exclusively any responsibilities that may arise from the TRANSPORT SERVICE CONTRACT.\\n20.3\\tIn the event that, for the execution of the TRANSPORT SERVICE, THIRD PARTIES personal data need to be processed, each PARTY shall act as Autonomous Data Controller, fulfilling the obligation to inform the data subjects and, where required by law, collecting their consent.\\n\\n21. SPECIAL CONDITIONS \\n21.1 SUB-CONTRACTOR acknowledges that coronavirus COVID-19 pandemic is a known and/or foreseeable event, as well as the respective current and future measures attempting to limit/control the spread resulting thereof and the related direct and indirect effects. Therefore, SUB-CONTRACTOR agrees that such events shall not be considered as Force Majeure pursuant to and for the purposes of Clause 19 “FORCE MAJEURE” of the GENERAL TERMS AND CONDITIONS for TRANSPORT SERVICE CONTRACT DOCUMENTS and/or in any case as events which can legitimate SUB-CONTRACTOR’s delay or non-performance or SUB-CONTRACTOR’s request for additional costs. \\nSUB-CONTRACTOR declares that it has taken into account coronavirus COVID-19 pandemic and the risk of the adoption of new measures attempting to limit/control the spread resulting thereof, before entering into the TRANSPORT SERVICE CONTRACT DOCUMENTS and represents that it can manage any further implications of coronavirus COVID-19 pandemic, without seeking any modification to the TRANSPORT SERVICE CONTRACT DOCUMENTS.  The PARTIES acknowledge that the TRANSPORT SERVICE CONTRACT DOCUMENTS have been mutually agreed in all their aspects also in order to consider and regulate any constraints that may directly or indirectly arise due to the events described hereabove.\\n21.2 [in case rental is part of the transport service]\\nIn accordance with IFRS 16 principles, the SUB-CONTRACTOR declares that the SCOPE OF TRANSPORT SERVICE of the present TRANSPORT SERVICE CONTRACT is split as follows:\\n - Rental part equal to [XXXXXX]\\n-  Service part equal to [XXXXXXX]\\n\\n21.3 [TO BE INSERTED, IF ANY, ON A CASE BY CASE BASIS]\\n\\n22. LAW N. 136 OF 2010 – FINANCIAL FLOW TRACEABILITY \\n [in case the project is subject to the Italian law n. 136 of 2010 referred to the financial flow traceability]\\n22.1 \\tAny and all agreements made between SUB-CONTRACTOR and any of its Sub-Contractors or Sub-Suppliers of any tier shall include a mutual specific clause whereby both relevant parties commit to comply with the financial flow traceability obligations required by the Italian Law n. 136 of 13 August 2010 (“Law n. 136 of 2010”). In case of non-compliance with the above, that contract is deemed to be null and void. If, either SUB-CONTRACTOR or any of its Sub-Contractors or Sub-Suppliers has knowledge of any non-compliance by its counterparty with the aforesaid obligations, it shall immediately inform both CONTRACTOR and the relevant Italian authority (i.e. the competent Prefecture - Territorial Office of the Government of the Province).\\nIn addition to the above, SUB-CONTRACTOR shall send to CONTRACTOR a written declaration, signed by its legal representative, whereby SUPPLIER confirms that appropriate clauses according to Law n. 136 of 2010 are included in each contract signed between SUB-CONTRACTOR and any of its Sub-Contractors or Sub-Suppliers. The declaration shall be drawn up as per “FORM-COR-PROC-041-E”.\\n23.2\\tWhere CONTRACTOR  expressly authorizes the assignment of any and all credits due to SUB-CONTRACTOR  under this TRANSPORT SERVICE CONTRACT to any third party (hereinafter referred to as the “ASSIGNEE”), SUB-CONTRACTOR  shall send to the ASSIGNEE a written declaration which includes the identification details of the “dedicated” bank account according to Law n. 136 of 2010, personal details and fiscal codes of the persons empowered to operate on the dedicated bank account (or the indication of an equivalent document in the case of foreign persons), the Tender Identification Code (“Codice Identificativo Gara”-CIG), the Project Identification Code (“Codice Unico di Progetto” – CUP), and the relevant number of the assigned contract.  \\n\\n[signature]\\n\\n\\n\\n[Note: each page of the TRANSPORT SERVICE CONTRACT and of the General Terms and Conditions shall be initialled by both PARTIES]\\n\\n\\n\\n\\n\\n\\n\\n\\n\\n\\n\\n\\n\\n\\n\\n\\n\\nComments on General Terms and Conditions:\\n• Article 8. SUB-CONTRACTOR’S RESPONSIBILITIES IN RELATION TO THE GOODS The Whole Article shall be reviewed by operations\\n• Article 9. Obligations\\no 9.2.c provide all management, supervision, personnel, materials, equipment, means of transport and all other things whether of a temporary or permanent nature required for the TRANSPORT SERVICE;\\no 9.2.e provide all necessary permits, licenses, and any other authorizations for the performance of the TRANSPORT SERVICE, except for those which must be obtained by CONTRACTOR, as specified in the TRANSPORT SERVICE CONTRACT;\\no 9.2.g prepare and submit SUB-CONTRACTOR DOCUMENTS, including Quality Control Plan and a detailed TRANSPORT SERVICE TIME SCHEDULE showing chronological order of major activities, key dates, for CONTRACTOR\\'s review and approval as specified in the TRANSPORT SERVICE CONTRACT DOCUMENTS;\\no 9.4 All costs and charges that may be incurred by SUB-CONTRACTOR under this Clause shall be borne by SUB-CONTRACTOR and be deemed to be included in and covered by the TOTALTRANSPORT SERVICE CONTRACT AMOUNT.\\n• Article 11. TITLE AND RISK\\no SUB-CONTRACTOR shall be responsible for the care and custody of the GOODS from the COMMENCEMENT DATE, at the condition stated in Clause 8 “SUB-CONTRACTOR’S RESPONSIBILITIES IN RELATION TO THE GOODS”, until the date of the COMPLETION OF THE TRANSPORT SERVICE in accordance with Clause 2 “COMPLETION OF THE TRANSPORT SERVICE”.\\no Title to the GOODS shall remain with CONTRACTOR for the whole duration of the TRANSPORT SERVICE.\\nArticle 14. PRICING• \\n\\n14.2 All prices and rates set forth in the TRANSPORT SERVICE CONTRACT shall be firm and fixed and shall not be subject to escalation or exchange rate variation of any kind for the entire duration of the TRANSPORT SERVICE CONTRACT DOCUMENTS. Article \\n\\n• Article 18. SUSPENSION FOR CONVENIENCE\\no CONTRACTOR in its absolute and sole discretion shall be entitled to instruct SUBCONTRACTOR to suspend the TRANSPORT SERVICE for any reason, by giving notice (“Notice of Suspension”) thereof to SUB-CONTRACTOR. The Notice of Suspension shall specify the date of suspension and the estimated duration of the suspension.\\n\\n21. Terminations:\\no TERMINATION FOR CONVENIENCE\\no 21.7 CONTRACTOR in its absolute and sole discretion may terminate the TRANSPORT SERVICE CONTRACT or any part thereof for any reason and at any time by giving 10 (ten) days’ notice thereof to SUB-CONTRACTOR.\\n• Article 23 DAMAGE OR LOSS OF THE GOODS, \\no What is the maximum value of the goods per full truck load/trip by land\\no Are we dealing with sea or air freight under this agreement?\\no SUB-CONTRACTOR shall be liable for damage to or loss of the GOODS arising out of or in connection with SUB-CONTRACTOR GROUP\\'s performance or non-performance of the TRANSPORT SERVICE CONTRACT DOCUMENTS in accordance with the following provisions: SEA TRANSPORT, ROAD TRANSPORT, AIR TRANSPORT\\n• 26. INSURANCE REQUIREMENTS\\no h. SUB-CONTRACTOR’s All Risks Insurance covering property and or equipment owned, leased or used by SUB-CONTRACTOR in the performance of the TRANSPORT SERVICE, up to the full replacement value of such property and or equipment;\\no The deductibles of the Insurances specified in this Clause shall be borne by SUB-CONTRACTOR.\\no The policies described under this Clause, other than Workman’s Compensation and Employers Liability, shall provide (i) that CONTRACTOR GROUP is named additional assured to the extent of the liabilities assumed by SUB‐CONTRACTOR under the TRANSPORT SERVICE CONTRACT and (ii) that the insurers waive all rights of subrogation against CONTRACTOR GROUP and its sub-supplier and/or sub-contractor of any tier.\\n[A1]Duration it\\'s not mentioned\\n[A2]Please fill-in\\n[A3]Please add in case of any delay in offloading at site, detention charges shall apply\\n[A4]Shall be considered by operations and filled-in\\n[A5]All transit time shall be filled-in as per our operations confirmation \\n[A6]Filled-in , and I recommend , 0.5% PER LINE ITEM FOR EVERY WEEK DELAY, UP TO AND MAXIMUM 5% OF CONTRQCT VALUE FOR ALL DELAYS AGGREGATED DURING THE COURSE OF THE CONTRACT\\n[A7]NO PRO-FORMA INVOICE UNDER THIS CONTRACT\\n[A8]30 DAYS\\n[A9]RETENSION, MAXIMUM 5%\\n[A10]MAXIMUM 10% \\n[A11]I\\'VE PUT 5%, WHAT IS THE TOTAL CONTRACT VALUE?\\n[A12]OUR MAXIMUM INSURANCE IS 5,000,000 SAR FOR BODILY INJURY AND /OR 3RD PARTY PROPERTY DAMAGE ANY ONCE OCCURANCE AND 18,750,000 SA AGGREGATED\\n[A13]!\\n\\n\\n \\nTEMPLATE\\nGroup\\n\\nTRANSPORT SERVICE CONTRACT \\nDoc. no. TMP_GR-GROUP-SC-PRO_MOD-510-E\\n\\n\\nRev. 01\\nDate 03/08/2021\\n\\n\\nPage 1 of 3\\n\\n\\n\\n\\n\\n\\n\\n\\n\\n\\n\\n\\n\\n\\n\\n \\nTEMPLATE\\nGroup\\n\\nTRANSPORT SERVICE CONTRACT \\n\\nDoc. no. TMP_GR-GROUP-SC-PRO_MOD-510-E\\n\\n\\nRev. 01\\nDate 03/08/2021\\n\\n\\nPage 1 of 3\\n\\n\\n'"
            ],
            "application/vnd.google.colaboratory.intrinsic+json": {
              "type": "string"
            }
          },
          "metadata": {},
          "execution_count": 51
        }
      ]
    },
    {
      "cell_type": "code",
      "source": [
        "with open('predictions.txt', 'w') as f:\n",
        "    for i, p in enumerate(predictions):\n",
        "        f.write(f\"Question {i+1}: {questions[int(p)]}\\nAnswer: {predictions[p]}\\n\\n\")"
      ],
      "metadata": {
        "id": "biVeQcvh-brz"
      },
      "id": "biVeQcvh-brz",
      "execution_count": 52,
      "outputs": []
    },
    {
      "cell_type": "code",
      "source": [
        "files.download('predictions.txt')"
      ],
      "metadata": {
        "id": "9SZFrU7ucVN5",
        "colab": {
          "base_uri": "https://localhost:8080/",
          "height": 17
        },
        "outputId": "ea701f31-f689-45d5-864e-48cbe0fc2180"
      },
      "id": "9SZFrU7ucVN5",
      "execution_count": 54,
      "outputs": [
        {
          "output_type": "display_data",
          "data": {
            "text/plain": [
              "<IPython.core.display.Javascript object>"
            ],
            "application/javascript": [
              "\n",
              "    async function download(id, filename, size) {\n",
              "      if (!google.colab.kernel.accessAllowed) {\n",
              "        return;\n",
              "      }\n",
              "      const div = document.createElement('div');\n",
              "      const label = document.createElement('label');\n",
              "      label.textContent = `Downloading \"${filename}\": `;\n",
              "      div.appendChild(label);\n",
              "      const progress = document.createElement('progress');\n",
              "      progress.max = size;\n",
              "      div.appendChild(progress);\n",
              "      document.body.appendChild(div);\n",
              "\n",
              "      const buffers = [];\n",
              "      let downloaded = 0;\n",
              "\n",
              "      const channel = await google.colab.kernel.comms.open(id);\n",
              "      // Send a message to notify the kernel that we're ready.\n",
              "      channel.send({})\n",
              "\n",
              "      for await (const message of channel.messages) {\n",
              "        // Send a message to notify the kernel that we're ready.\n",
              "        channel.send({})\n",
              "        if (message.buffers) {\n",
              "          for (const buffer of message.buffers) {\n",
              "            buffers.push(buffer);\n",
              "            downloaded += buffer.byteLength;\n",
              "            progress.value = downloaded;\n",
              "          }\n",
              "        }\n",
              "      }\n",
              "      const blob = new Blob(buffers, {type: 'application/binary'});\n",
              "      const a = document.createElement('a');\n",
              "      a.href = window.URL.createObjectURL(blob);\n",
              "      a.download = filename;\n",
              "      div.appendChild(a);\n",
              "      a.click();\n",
              "      div.remove();\n",
              "    }\n",
              "  "
            ]
          },
          "metadata": {}
        },
        {
          "output_type": "display_data",
          "data": {
            "text/plain": [
              "<IPython.core.display.Javascript object>"
            ],
            "application/javascript": [
              "download(\"download_ba82c6a8-5fed-4fef-bb0c-8a2c5f155582\", \"predictions.txt\", 14733)"
            ]
          },
          "metadata": {}
        }
      ]
    }
  ],
  "metadata": {
    "kernelspec": {
      "display_name": "Python 3",
      "name": "python3"
    },
    "language_info": {
      "name": "python"
    },
    "colab": {
      "name": "Fathi Contract Review.ipynb",
      "provenance": [],
      "collapsed_sections": []
    },
    "accelerator": "GPU",
    "gpuClass": "standard"
  },
  "nbformat": 4,
  "nbformat_minor": 5
}